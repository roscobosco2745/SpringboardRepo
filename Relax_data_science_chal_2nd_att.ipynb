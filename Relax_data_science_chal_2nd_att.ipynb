{
 "cells": [
  {
   "cell_type": "code",
   "execution_count": 1,
   "id": "fa954318-a806-404a-9678-042b94d5a2d8",
   "metadata": {},
   "outputs": [],
   "source": [
    "import numpy as np\n",
    "import pandas as pd\n",
    "import matplotlib.pyplot as plt\n",
    "import seaborn as sns"
   ]
  },
  {
   "cell_type": "code",
   "execution_count": 2,
   "id": "735364aa-38a3-4fe6-a4ee-9066bf78f544",
   "metadata": {},
   "outputs": [
    {
     "data": {
      "text/html": [
       "<div>\n",
       "<style scoped>\n",
       "    .dataframe tbody tr th:only-of-type {\n",
       "        vertical-align: middle;\n",
       "    }\n",
       "\n",
       "    .dataframe tbody tr th {\n",
       "        vertical-align: top;\n",
       "    }\n",
       "\n",
       "    .dataframe thead th {\n",
       "        text-align: right;\n",
       "    }\n",
       "</style>\n",
       "<table border=\"1\" class=\"dataframe\">\n",
       "  <thead>\n",
       "    <tr style=\"text-align: right;\">\n",
       "      <th></th>\n",
       "      <th>time_stamp</th>\n",
       "      <th>user_id</th>\n",
       "      <th>visited</th>\n",
       "    </tr>\n",
       "  </thead>\n",
       "  <tbody>\n",
       "    <tr>\n",
       "      <th>0</th>\n",
       "      <td>2014-04-22 03:53:30</td>\n",
       "      <td>1</td>\n",
       "      <td>1</td>\n",
       "    </tr>\n",
       "    <tr>\n",
       "      <th>1</th>\n",
       "      <td>2013-11-15 03:45:04</td>\n",
       "      <td>2</td>\n",
       "      <td>1</td>\n",
       "    </tr>\n",
       "    <tr>\n",
       "      <th>2</th>\n",
       "      <td>2013-11-29 03:45:04</td>\n",
       "      <td>2</td>\n",
       "      <td>1</td>\n",
       "    </tr>\n",
       "    <tr>\n",
       "      <th>3</th>\n",
       "      <td>2013-12-09 03:45:04</td>\n",
       "      <td>2</td>\n",
       "      <td>1</td>\n",
       "    </tr>\n",
       "    <tr>\n",
       "      <th>4</th>\n",
       "      <td>2013-12-25 03:45:04</td>\n",
       "      <td>2</td>\n",
       "      <td>1</td>\n",
       "    </tr>\n",
       "    <tr>\n",
       "      <th>5</th>\n",
       "      <td>2013-12-31 03:45:04</td>\n",
       "      <td>2</td>\n",
       "      <td>1</td>\n",
       "    </tr>\n",
       "    <tr>\n",
       "      <th>6</th>\n",
       "      <td>2014-01-08 03:45:04</td>\n",
       "      <td>2</td>\n",
       "      <td>1</td>\n",
       "    </tr>\n",
       "    <tr>\n",
       "      <th>7</th>\n",
       "      <td>2014-02-03 03:45:04</td>\n",
       "      <td>2</td>\n",
       "      <td>1</td>\n",
       "    </tr>\n",
       "    <tr>\n",
       "      <th>8</th>\n",
       "      <td>2014-02-08 03:45:04</td>\n",
       "      <td>2</td>\n",
       "      <td>1</td>\n",
       "    </tr>\n",
       "    <tr>\n",
       "      <th>9</th>\n",
       "      <td>2014-02-09 03:45:04</td>\n",
       "      <td>2</td>\n",
       "      <td>1</td>\n",
       "    </tr>\n",
       "    <tr>\n",
       "      <th>10</th>\n",
       "      <td>2014-02-13 03:45:04</td>\n",
       "      <td>2</td>\n",
       "      <td>1</td>\n",
       "    </tr>\n",
       "    <tr>\n",
       "      <th>11</th>\n",
       "      <td>2014-02-16 03:45:04</td>\n",
       "      <td>2</td>\n",
       "      <td>1</td>\n",
       "    </tr>\n",
       "    <tr>\n",
       "      <th>12</th>\n",
       "      <td>2014-03-09 03:45:04</td>\n",
       "      <td>2</td>\n",
       "      <td>1</td>\n",
       "    </tr>\n",
       "    <tr>\n",
       "      <th>13</th>\n",
       "      <td>2014-03-13 03:45:04</td>\n",
       "      <td>2</td>\n",
       "      <td>1</td>\n",
       "    </tr>\n",
       "    <tr>\n",
       "      <th>14</th>\n",
       "      <td>2014-03-31 03:45:04</td>\n",
       "      <td>2</td>\n",
       "      <td>1</td>\n",
       "    </tr>\n",
       "    <tr>\n",
       "      <th>15</th>\n",
       "      <td>2013-03-19 23:14:52</td>\n",
       "      <td>3</td>\n",
       "      <td>1</td>\n",
       "    </tr>\n",
       "    <tr>\n",
       "      <th>16</th>\n",
       "      <td>2013-05-22 08:09:28</td>\n",
       "      <td>4</td>\n",
       "      <td>1</td>\n",
       "    </tr>\n",
       "    <tr>\n",
       "      <th>17</th>\n",
       "      <td>2013-01-22 10:14:20</td>\n",
       "      <td>5</td>\n",
       "      <td>1</td>\n",
       "    </tr>\n",
       "    <tr>\n",
       "      <th>18</th>\n",
       "      <td>2013-12-19 03:37:06</td>\n",
       "      <td>6</td>\n",
       "      <td>1</td>\n",
       "    </tr>\n",
       "    <tr>\n",
       "      <th>19</th>\n",
       "      <td>2012-12-20 13:24:32</td>\n",
       "      <td>7</td>\n",
       "      <td>1</td>\n",
       "    </tr>\n",
       "  </tbody>\n",
       "</table>\n",
       "</div>"
      ],
      "text/plain": [
       "             time_stamp  user_id  visited\n",
       "0   2014-04-22 03:53:30        1        1\n",
       "1   2013-11-15 03:45:04        2        1\n",
       "2   2013-11-29 03:45:04        2        1\n",
       "3   2013-12-09 03:45:04        2        1\n",
       "4   2013-12-25 03:45:04        2        1\n",
       "5   2013-12-31 03:45:04        2        1\n",
       "6   2014-01-08 03:45:04        2        1\n",
       "7   2014-02-03 03:45:04        2        1\n",
       "8   2014-02-08 03:45:04        2        1\n",
       "9   2014-02-09 03:45:04        2        1\n",
       "10  2014-02-13 03:45:04        2        1\n",
       "11  2014-02-16 03:45:04        2        1\n",
       "12  2014-03-09 03:45:04        2        1\n",
       "13  2014-03-13 03:45:04        2        1\n",
       "14  2014-03-31 03:45:04        2        1\n",
       "15  2013-03-19 23:14:52        3        1\n",
       "16  2013-05-22 08:09:28        4        1\n",
       "17  2013-01-22 10:14:20        5        1\n",
       "18  2013-12-19 03:37:06        6        1\n",
       "19  2012-12-20 13:24:32        7        1"
      ]
     },
     "execution_count": 2,
     "metadata": {},
     "output_type": "execute_result"
    }
   ],
   "source": [
    "engagement_1 = pd.read_csv('takehome_user_engagement.csv')\n",
    "engagement_1.head(20)"
   ]
  },
  {
   "cell_type": "markdown",
   "id": "5daad178-f155-48c6-9bc9-4893ef1ff7e6",
   "metadata": {},
   "source": [
    "####  I want to build a \"rolling window\" 3 entries wide to determine if a user has logged on at least 3 times in a 7-day period.  I will group by users and order by time stamp.  "
   ]
  },
  {
   "cell_type": "code",
   "execution_count": 3,
   "id": "37d5c7d4-1b1f-4af8-859a-a3400dbd6a91",
   "metadata": {},
   "outputs": [],
   "source": [
    "\n",
    "engagement_2 = engagement_1.sort_values(by=['user_id', 'time_stamp'])\n",
    "\n"
   ]
  },
  {
   "cell_type": "code",
   "execution_count": 4,
   "id": "67f0bbeb-9ca8-403b-ae8d-79f7d2cc9cf6",
   "metadata": {},
   "outputs": [],
   "source": [
    "engagement_2['time_stamp'] = pd.to_datetime(engagement_2['time_stamp'])"
   ]
  },
  {
   "cell_type": "code",
   "execution_count": 5,
   "id": "41c1b081-9438-4c25-9536-fbaf90933faa",
   "metadata": {},
   "outputs": [
    {
     "data": {
      "text/plain": [
       "time_stamp    datetime64[ns]\n",
       "user_id                int64\n",
       "visited                int64\n",
       "dtype: object"
      ]
     },
     "execution_count": 5,
     "metadata": {},
     "output_type": "execute_result"
    }
   ],
   "source": [
    "engagement_2.dtypes"
   ]
  },
  {
   "cell_type": "markdown",
   "id": "3b05723b-e1cb-45c6-992a-9649d6f43149",
   "metadata": {},
   "source": [
    "#### I will create the 'window' by shifting the times_stamp column down two values and then subtracting."
   ]
  },
  {
   "cell_type": "code",
   "execution_count": 6,
   "id": "a355b56c-5b49-4a6f-984e-132ba7631097",
   "metadata": {},
   "outputs": [],
   "source": [
    "shift_2 = engagement_2.groupby('user_id')['time_stamp'].apply(lambda x: x.shift(2))"
   ]
  },
  {
   "cell_type": "code",
   "execution_count": 7,
   "id": "4e806486-3ab2-4953-9b48-c71c6a68e9a1",
   "metadata": {},
   "outputs": [
    {
     "data": {
      "text/plain": [
       "user_id        \n",
       "1        0                        NaT\n",
       "2        1                        NaT\n",
       "         2                        NaT\n",
       "         3        2013-11-15 03:45:04\n",
       "         4        2013-11-29 03:45:04\n",
       "                          ...        \n",
       "11996    207912                   NaT\n",
       "11997    207913                   NaT\n",
       "11998    207914                   NaT\n",
       "11999    207915                   NaT\n",
       "12000    207916                   NaT\n",
       "Name: time_stamp, Length: 207917, dtype: datetime64[ns]"
      ]
     },
     "execution_count": 7,
     "metadata": {},
     "output_type": "execute_result"
    }
   ],
   "source": [
    "shift_2"
   ]
  },
  {
   "cell_type": "code",
   "execution_count": 8,
   "id": "a8a24354-04ce-43a6-bf6d-4ca9767eb115",
   "metadata": {},
   "outputs": [],
   "source": [
    "no_shift = engagement_2.groupby('user_id')['time_stamp'].apply(lambda x: x.shift(0))"
   ]
  },
  {
   "cell_type": "code",
   "execution_count": 9,
   "id": "e3306509-905a-44e7-bc06-a0b4d01d3899",
   "metadata": {},
   "outputs": [
    {
     "data": {
      "text/plain": [
       "user_id        \n",
       "1        0        2014-04-22 03:53:30\n",
       "2        1        2013-11-15 03:45:04\n",
       "         2        2013-11-29 03:45:04\n",
       "         3        2013-12-09 03:45:04\n",
       "         4        2013-12-25 03:45:04\n",
       "                          ...        \n",
       "11996    207912   2013-09-06 06:14:15\n",
       "11997    207913   2013-01-15 18:28:37\n",
       "11998    207914   2014-04-27 12:45:16\n",
       "11999    207915   2012-06-02 11:55:59\n",
       "12000    207916   2014-01-26 08:57:12\n",
       "Name: time_stamp, Length: 207917, dtype: datetime64[ns]"
      ]
     },
     "execution_count": 9,
     "metadata": {},
     "output_type": "execute_result"
    }
   ],
   "source": [
    "no_shift"
   ]
  },
  {
   "cell_type": "code",
   "execution_count": 10,
   "id": "6f1e7b4d-dfc8-4572-acbd-27d89f4e0c9f",
   "metadata": {},
   "outputs": [],
   "source": [
    "diff = ((no_shift - shift_2).dt.days <= 7).astype(int)"
   ]
  },
  {
   "cell_type": "code",
   "execution_count": 11,
   "id": "5d10ba39-8a75-4363-896c-88c0ff62874c",
   "metadata": {},
   "outputs": [
    {
     "data": {
      "text/plain": [
       "user_id        \n",
       "1        0         0\n",
       "2        1         0\n",
       "         2         0\n",
       "         3         0\n",
       "         4         0\n",
       "                  ..\n",
       "11996    207912    0\n",
       "11997    207913    0\n",
       "11998    207914    0\n",
       "11999    207915    0\n",
       "12000    207916    0\n",
       "Name: time_stamp, Length: 207917, dtype: int32"
      ]
     },
     "execution_count": 11,
     "metadata": {},
     "output_type": "execute_result"
    }
   ],
   "source": [
    "diff"
   ]
  },
  {
   "cell_type": "code",
   "execution_count": 12,
   "id": "9d99759f-c2e5-4fb5-8780-8012ce9f8e96",
   "metadata": {},
   "outputs": [],
   "source": [
    "diff_group_user = diff.groupby(['user_id']).max()"
   ]
  },
  {
   "cell_type": "code",
   "execution_count": 13,
   "id": "a1efc5fe-63a7-425b-9173-818b72a4a783",
   "metadata": {},
   "outputs": [
    {
     "data": {
      "text/plain": [
       "user_id\n",
       "1        0\n",
       "2        1\n",
       "3        0\n",
       "4        0\n",
       "5        0\n",
       "        ..\n",
       "11996    0\n",
       "11997    0\n",
       "11998    0\n",
       "11999    0\n",
       "12000    0\n",
       "Name: time_stamp, Length: 8823, dtype: int32"
      ]
     },
     "execution_count": 13,
     "metadata": {},
     "output_type": "execute_result"
    }
   ],
   "source": [
    "diff_group_user"
   ]
  },
  {
   "cell_type": "code",
   "execution_count": 14,
   "id": "2fc634c7-fa92-4b1c-a70b-8f911230fa10",
   "metadata": {},
   "outputs": [],
   "source": [
    "diff_group_user_df = pd.DataFrame(diff_group_user)"
   ]
  },
  {
   "cell_type": "code",
   "execution_count": 15,
   "id": "ad3862bd-a910-4812-9437-5c354bf69ce1",
   "metadata": {},
   "outputs": [
    {
     "data": {
      "text/html": [
       "<div>\n",
       "<style scoped>\n",
       "    .dataframe tbody tr th:only-of-type {\n",
       "        vertical-align: middle;\n",
       "    }\n",
       "\n",
       "    .dataframe tbody tr th {\n",
       "        vertical-align: top;\n",
       "    }\n",
       "\n",
       "    .dataframe thead th {\n",
       "        text-align: right;\n",
       "    }\n",
       "</style>\n",
       "<table border=\"1\" class=\"dataframe\">\n",
       "  <thead>\n",
       "    <tr style=\"text-align: right;\">\n",
       "      <th></th>\n",
       "      <th>time_stamp</th>\n",
       "    </tr>\n",
       "    <tr>\n",
       "      <th>user_id</th>\n",
       "      <th></th>\n",
       "    </tr>\n",
       "  </thead>\n",
       "  <tbody>\n",
       "    <tr>\n",
       "      <th>1</th>\n",
       "      <td>0</td>\n",
       "    </tr>\n",
       "    <tr>\n",
       "      <th>2</th>\n",
       "      <td>1</td>\n",
       "    </tr>\n",
       "    <tr>\n",
       "      <th>3</th>\n",
       "      <td>0</td>\n",
       "    </tr>\n",
       "    <tr>\n",
       "      <th>4</th>\n",
       "      <td>0</td>\n",
       "    </tr>\n",
       "    <tr>\n",
       "      <th>5</th>\n",
       "      <td>0</td>\n",
       "    </tr>\n",
       "    <tr>\n",
       "      <th>...</th>\n",
       "      <td>...</td>\n",
       "    </tr>\n",
       "    <tr>\n",
       "      <th>11996</th>\n",
       "      <td>0</td>\n",
       "    </tr>\n",
       "    <tr>\n",
       "      <th>11997</th>\n",
       "      <td>0</td>\n",
       "    </tr>\n",
       "    <tr>\n",
       "      <th>11998</th>\n",
       "      <td>0</td>\n",
       "    </tr>\n",
       "    <tr>\n",
       "      <th>11999</th>\n",
       "      <td>0</td>\n",
       "    </tr>\n",
       "    <tr>\n",
       "      <th>12000</th>\n",
       "      <td>0</td>\n",
       "    </tr>\n",
       "  </tbody>\n",
       "</table>\n",
       "<p>8823 rows × 1 columns</p>\n",
       "</div>"
      ],
      "text/plain": [
       "         time_stamp\n",
       "user_id            \n",
       "1                 0\n",
       "2                 1\n",
       "3                 0\n",
       "4                 0\n",
       "5                 0\n",
       "...             ...\n",
       "11996             0\n",
       "11997             0\n",
       "11998             0\n",
       "11999             0\n",
       "12000             0\n",
       "\n",
       "[8823 rows x 1 columns]"
      ]
     },
     "execution_count": 15,
     "metadata": {},
     "output_type": "execute_result"
    }
   ],
   "source": [
    "diff_group_user_df"
   ]
  },
  {
   "cell_type": "code",
   "execution_count": 16,
   "id": "88be664c-6498-483f-9417-c633dcc7468d",
   "metadata": {},
   "outputs": [],
   "source": [
    "diff_group_user_df.reset_index(inplace = True)"
   ]
  },
  {
   "cell_type": "code",
   "execution_count": 17,
   "id": "8d8d441e-7ce7-4081-8450-a563490df896",
   "metadata": {},
   "outputs": [
    {
     "data": {
      "text/html": [
       "<div>\n",
       "<style scoped>\n",
       "    .dataframe tbody tr th:only-of-type {\n",
       "        vertical-align: middle;\n",
       "    }\n",
       "\n",
       "    .dataframe tbody tr th {\n",
       "        vertical-align: top;\n",
       "    }\n",
       "\n",
       "    .dataframe thead th {\n",
       "        text-align: right;\n",
       "    }\n",
       "</style>\n",
       "<table border=\"1\" class=\"dataframe\">\n",
       "  <thead>\n",
       "    <tr style=\"text-align: right;\">\n",
       "      <th></th>\n",
       "      <th>user_id</th>\n",
       "      <th>adopted</th>\n",
       "    </tr>\n",
       "  </thead>\n",
       "  <tbody>\n",
       "    <tr>\n",
       "      <th>0</th>\n",
       "      <td>1</td>\n",
       "      <td>0</td>\n",
       "    </tr>\n",
       "    <tr>\n",
       "      <th>1</th>\n",
       "      <td>2</td>\n",
       "      <td>1</td>\n",
       "    </tr>\n",
       "    <tr>\n",
       "      <th>2</th>\n",
       "      <td>3</td>\n",
       "      <td>0</td>\n",
       "    </tr>\n",
       "    <tr>\n",
       "      <th>3</th>\n",
       "      <td>4</td>\n",
       "      <td>0</td>\n",
       "    </tr>\n",
       "    <tr>\n",
       "      <th>4</th>\n",
       "      <td>5</td>\n",
       "      <td>0</td>\n",
       "    </tr>\n",
       "    <tr>\n",
       "      <th>...</th>\n",
       "      <td>...</td>\n",
       "      <td>...</td>\n",
       "    </tr>\n",
       "    <tr>\n",
       "      <th>8818</th>\n",
       "      <td>11996</td>\n",
       "      <td>0</td>\n",
       "    </tr>\n",
       "    <tr>\n",
       "      <th>8819</th>\n",
       "      <td>11997</td>\n",
       "      <td>0</td>\n",
       "    </tr>\n",
       "    <tr>\n",
       "      <th>8820</th>\n",
       "      <td>11998</td>\n",
       "      <td>0</td>\n",
       "    </tr>\n",
       "    <tr>\n",
       "      <th>8821</th>\n",
       "      <td>11999</td>\n",
       "      <td>0</td>\n",
       "    </tr>\n",
       "    <tr>\n",
       "      <th>8822</th>\n",
       "      <td>12000</td>\n",
       "      <td>0</td>\n",
       "    </tr>\n",
       "  </tbody>\n",
       "</table>\n",
       "<p>8823 rows × 2 columns</p>\n",
       "</div>"
      ],
      "text/plain": [
       "      user_id  adopted\n",
       "0           1        0\n",
       "1           2        1\n",
       "2           3        0\n",
       "3           4        0\n",
       "4           5        0\n",
       "...       ...      ...\n",
       "8818    11996        0\n",
       "8819    11997        0\n",
       "8820    11998        0\n",
       "8821    11999        0\n",
       "8822    12000        0\n",
       "\n",
       "[8823 rows x 2 columns]"
      ]
     },
     "execution_count": 17,
     "metadata": {},
     "output_type": "execute_result"
    }
   ],
   "source": [
    "diff_group_user_df.rename(columns = {'time_stamp':'adopted'}, inplace = True)\n",
    "diff_group_user_df"
   ]
  },
  {
   "cell_type": "markdown",
   "id": "83db526e-373b-4e3c-bd85-bc8378a9ec66",
   "metadata": {},
   "source": [
    "#### Now that I have created a data frame containing 'adopted user' information, I will join it with the data frame containing other user information."
   ]
  },
  {
   "cell_type": "code",
   "execution_count": 19,
   "id": "bfa61613-8226-4989-a84f-31eba1164c09",
   "metadata": {},
   "outputs": [
    {
     "data": {
      "text/html": [
       "<div>\n",
       "<style scoped>\n",
       "    .dataframe tbody tr th:only-of-type {\n",
       "        vertical-align: middle;\n",
       "    }\n",
       "\n",
       "    .dataframe tbody tr th {\n",
       "        vertical-align: top;\n",
       "    }\n",
       "\n",
       "    .dataframe thead th {\n",
       "        text-align: right;\n",
       "    }\n",
       "</style>\n",
       "<table border=\"1\" class=\"dataframe\">\n",
       "  <thead>\n",
       "    <tr style=\"text-align: right;\">\n",
       "      <th></th>\n",
       "      <th>object_id</th>\n",
       "      <th>creation_time</th>\n",
       "      <th>name</th>\n",
       "      <th>email</th>\n",
       "      <th>creation_source</th>\n",
       "      <th>last_session_creation_time</th>\n",
       "      <th>opted_in_to_mailing_list</th>\n",
       "      <th>enabled_for_marketing_drip</th>\n",
       "      <th>org_id</th>\n",
       "      <th>invited_by_user_id</th>\n",
       "    </tr>\n",
       "  </thead>\n",
       "  <tbody>\n",
       "    <tr>\n",
       "      <th>0</th>\n",
       "      <td>1</td>\n",
       "      <td>2014-04-22 03:53:30</td>\n",
       "      <td>Clausen August</td>\n",
       "      <td>AugustCClausen@yahoo.com</td>\n",
       "      <td>GUEST_INVITE</td>\n",
       "      <td>1.398139e+09</td>\n",
       "      <td>1</td>\n",
       "      <td>0</td>\n",
       "      <td>11</td>\n",
       "      <td>10803.0</td>\n",
       "    </tr>\n",
       "    <tr>\n",
       "      <th>1</th>\n",
       "      <td>2</td>\n",
       "      <td>2013-11-15 03:45:04</td>\n",
       "      <td>Poole Matthew</td>\n",
       "      <td>MatthewPoole@gustr.com</td>\n",
       "      <td>ORG_INVITE</td>\n",
       "      <td>1.396238e+09</td>\n",
       "      <td>0</td>\n",
       "      <td>0</td>\n",
       "      <td>1</td>\n",
       "      <td>316.0</td>\n",
       "    </tr>\n",
       "    <tr>\n",
       "      <th>2</th>\n",
       "      <td>3</td>\n",
       "      <td>2013-03-19 23:14:52</td>\n",
       "      <td>Bottrill Mitchell</td>\n",
       "      <td>MitchellBottrill@gustr.com</td>\n",
       "      <td>ORG_INVITE</td>\n",
       "      <td>1.363735e+09</td>\n",
       "      <td>0</td>\n",
       "      <td>0</td>\n",
       "      <td>94</td>\n",
       "      <td>1525.0</td>\n",
       "    </tr>\n",
       "    <tr>\n",
       "      <th>3</th>\n",
       "      <td>4</td>\n",
       "      <td>2013-05-21 08:09:28</td>\n",
       "      <td>Clausen Nicklas</td>\n",
       "      <td>NicklasSClausen@yahoo.com</td>\n",
       "      <td>GUEST_INVITE</td>\n",
       "      <td>1.369210e+09</td>\n",
       "      <td>0</td>\n",
       "      <td>0</td>\n",
       "      <td>1</td>\n",
       "      <td>5151.0</td>\n",
       "    </tr>\n",
       "    <tr>\n",
       "      <th>4</th>\n",
       "      <td>5</td>\n",
       "      <td>2013-01-17 10:14:20</td>\n",
       "      <td>Raw Grace</td>\n",
       "      <td>GraceRaw@yahoo.com</td>\n",
       "      <td>GUEST_INVITE</td>\n",
       "      <td>1.358850e+09</td>\n",
       "      <td>0</td>\n",
       "      <td>0</td>\n",
       "      <td>193</td>\n",
       "      <td>5240.0</td>\n",
       "    </tr>\n",
       "    <tr>\n",
       "      <th>...</th>\n",
       "      <td>...</td>\n",
       "      <td>...</td>\n",
       "      <td>...</td>\n",
       "      <td>...</td>\n",
       "      <td>...</td>\n",
       "      <td>...</td>\n",
       "      <td>...</td>\n",
       "      <td>...</td>\n",
       "      <td>...</td>\n",
       "      <td>...</td>\n",
       "    </tr>\n",
       "    <tr>\n",
       "      <th>11995</th>\n",
       "      <td>11996</td>\n",
       "      <td>2013-09-06 06:14:15</td>\n",
       "      <td>Meier Sophia</td>\n",
       "      <td>SophiaMeier@gustr.com</td>\n",
       "      <td>ORG_INVITE</td>\n",
       "      <td>1.378448e+09</td>\n",
       "      <td>0</td>\n",
       "      <td>0</td>\n",
       "      <td>89</td>\n",
       "      <td>8263.0</td>\n",
       "    </tr>\n",
       "    <tr>\n",
       "      <th>11996</th>\n",
       "      <td>11997</td>\n",
       "      <td>2013-01-10 18:28:37</td>\n",
       "      <td>Fisher Amelie</td>\n",
       "      <td>AmelieFisher@gmail.com</td>\n",
       "      <td>SIGNUP_GOOGLE_AUTH</td>\n",
       "      <td>1.358275e+09</td>\n",
       "      <td>0</td>\n",
       "      <td>0</td>\n",
       "      <td>200</td>\n",
       "      <td>NaN</td>\n",
       "    </tr>\n",
       "    <tr>\n",
       "      <th>11997</th>\n",
       "      <td>11998</td>\n",
       "      <td>2014-04-27 12:45:16</td>\n",
       "      <td>Haynes Jake</td>\n",
       "      <td>JakeHaynes@cuvox.de</td>\n",
       "      <td>GUEST_INVITE</td>\n",
       "      <td>1.398603e+09</td>\n",
       "      <td>1</td>\n",
       "      <td>1</td>\n",
       "      <td>83</td>\n",
       "      <td>8074.0</td>\n",
       "    </tr>\n",
       "    <tr>\n",
       "      <th>11998</th>\n",
       "      <td>11999</td>\n",
       "      <td>2012-05-31 11:55:59</td>\n",
       "      <td>Faber Annett</td>\n",
       "      <td>mhaerzxp@iuxiw.com</td>\n",
       "      <td>PERSONAL_PROJECTS</td>\n",
       "      <td>1.338638e+09</td>\n",
       "      <td>0</td>\n",
       "      <td>0</td>\n",
       "      <td>6</td>\n",
       "      <td>NaN</td>\n",
       "    </tr>\n",
       "    <tr>\n",
       "      <th>11999</th>\n",
       "      <td>12000</td>\n",
       "      <td>2014-01-26 08:57:12</td>\n",
       "      <td>Lima Thaís</td>\n",
       "      <td>ThaisMeloLima@hotmail.com</td>\n",
       "      <td>SIGNUP</td>\n",
       "      <td>1.390727e+09</td>\n",
       "      <td>0</td>\n",
       "      <td>1</td>\n",
       "      <td>0</td>\n",
       "      <td>NaN</td>\n",
       "    </tr>\n",
       "  </tbody>\n",
       "</table>\n",
       "<p>12000 rows × 10 columns</p>\n",
       "</div>"
      ],
      "text/plain": [
       "       object_id        creation_time               name  \\\n",
       "0              1  2014-04-22 03:53:30     Clausen August   \n",
       "1              2  2013-11-15 03:45:04      Poole Matthew   \n",
       "2              3  2013-03-19 23:14:52  Bottrill Mitchell   \n",
       "3              4  2013-05-21 08:09:28    Clausen Nicklas   \n",
       "4              5  2013-01-17 10:14:20          Raw Grace   \n",
       "...          ...                  ...                ...   \n",
       "11995      11996  2013-09-06 06:14:15       Meier Sophia   \n",
       "11996      11997  2013-01-10 18:28:37      Fisher Amelie   \n",
       "11997      11998  2014-04-27 12:45:16        Haynes Jake   \n",
       "11998      11999  2012-05-31 11:55:59       Faber Annett   \n",
       "11999      12000  2014-01-26 08:57:12         Lima Thaís   \n",
       "\n",
       "                            email     creation_source  \\\n",
       "0        AugustCClausen@yahoo.com        GUEST_INVITE   \n",
       "1          MatthewPoole@gustr.com          ORG_INVITE   \n",
       "2      MitchellBottrill@gustr.com          ORG_INVITE   \n",
       "3       NicklasSClausen@yahoo.com        GUEST_INVITE   \n",
       "4              GraceRaw@yahoo.com        GUEST_INVITE   \n",
       "...                           ...                 ...   \n",
       "11995       SophiaMeier@gustr.com          ORG_INVITE   \n",
       "11996      AmelieFisher@gmail.com  SIGNUP_GOOGLE_AUTH   \n",
       "11997         JakeHaynes@cuvox.de        GUEST_INVITE   \n",
       "11998          mhaerzxp@iuxiw.com   PERSONAL_PROJECTS   \n",
       "11999   ThaisMeloLima@hotmail.com              SIGNUP   \n",
       "\n",
       "       last_session_creation_time  opted_in_to_mailing_list  \\\n",
       "0                    1.398139e+09                         1   \n",
       "1                    1.396238e+09                         0   \n",
       "2                    1.363735e+09                         0   \n",
       "3                    1.369210e+09                         0   \n",
       "4                    1.358850e+09                         0   \n",
       "...                           ...                       ...   \n",
       "11995                1.378448e+09                         0   \n",
       "11996                1.358275e+09                         0   \n",
       "11997                1.398603e+09                         1   \n",
       "11998                1.338638e+09                         0   \n",
       "11999                1.390727e+09                         0   \n",
       "\n",
       "       enabled_for_marketing_drip  org_id  invited_by_user_id  \n",
       "0                               0      11             10803.0  \n",
       "1                               0       1               316.0  \n",
       "2                               0      94              1525.0  \n",
       "3                               0       1              5151.0  \n",
       "4                               0     193              5240.0  \n",
       "...                           ...     ...                 ...  \n",
       "11995                           0      89              8263.0  \n",
       "11996                           0     200                 NaN  \n",
       "11997                           1      83              8074.0  \n",
       "11998                           0       6                 NaN  \n",
       "11999                           1       0                 NaN  \n",
       "\n",
       "[12000 rows x 10 columns]"
      ]
     },
     "execution_count": 19,
     "metadata": {},
     "output_type": "execute_result"
    }
   ],
   "source": [
    "user_1 = pd.read_csv('takehome_users.csv', encoding = 'latin')\n",
    "user_1"
   ]
  },
  {
   "cell_type": "code",
   "execution_count": 147,
   "id": "2b74b011-a629-414c-b63e-da9628f02806",
   "metadata": {},
   "outputs": [],
   "source": [
    "merger = user_1.merge(diff_group_user_df, left_on='object_id', right_on='user_id')"
   ]
  },
  {
   "cell_type": "code",
   "execution_count": 148,
   "id": "e36ccc66-06b8-4133-8a4d-e70e951e425e",
   "metadata": {},
   "outputs": [
    {
     "data": {
      "text/html": [
       "<div>\n",
       "<style scoped>\n",
       "    .dataframe tbody tr th:only-of-type {\n",
       "        vertical-align: middle;\n",
       "    }\n",
       "\n",
       "    .dataframe tbody tr th {\n",
       "        vertical-align: top;\n",
       "    }\n",
       "\n",
       "    .dataframe thead th {\n",
       "        text-align: right;\n",
       "    }\n",
       "</style>\n",
       "<table border=\"1\" class=\"dataframe\">\n",
       "  <thead>\n",
       "    <tr style=\"text-align: right;\">\n",
       "      <th></th>\n",
       "      <th>object_id</th>\n",
       "      <th>creation_time</th>\n",
       "      <th>name</th>\n",
       "      <th>email</th>\n",
       "      <th>creation_source</th>\n",
       "      <th>last_session_creation_time</th>\n",
       "      <th>opted_in_to_mailing_list</th>\n",
       "      <th>enabled_for_marketing_drip</th>\n",
       "      <th>org_id</th>\n",
       "      <th>invited_by_user_id</th>\n",
       "      <th>user_id</th>\n",
       "      <th>adopted</th>\n",
       "    </tr>\n",
       "  </thead>\n",
       "  <tbody>\n",
       "    <tr>\n",
       "      <th>0</th>\n",
       "      <td>1</td>\n",
       "      <td>2014-04-22 03:53:30</td>\n",
       "      <td>Clausen August</td>\n",
       "      <td>AugustCClausen@yahoo.com</td>\n",
       "      <td>GUEST_INVITE</td>\n",
       "      <td>1.398139e+09</td>\n",
       "      <td>1</td>\n",
       "      <td>0</td>\n",
       "      <td>11</td>\n",
       "      <td>10803.0</td>\n",
       "      <td>1</td>\n",
       "      <td>0</td>\n",
       "    </tr>\n",
       "    <tr>\n",
       "      <th>1</th>\n",
       "      <td>2</td>\n",
       "      <td>2013-11-15 03:45:04</td>\n",
       "      <td>Poole Matthew</td>\n",
       "      <td>MatthewPoole@gustr.com</td>\n",
       "      <td>ORG_INVITE</td>\n",
       "      <td>1.396238e+09</td>\n",
       "      <td>0</td>\n",
       "      <td>0</td>\n",
       "      <td>1</td>\n",
       "      <td>316.0</td>\n",
       "      <td>2</td>\n",
       "      <td>1</td>\n",
       "    </tr>\n",
       "    <tr>\n",
       "      <th>2</th>\n",
       "      <td>3</td>\n",
       "      <td>2013-03-19 23:14:52</td>\n",
       "      <td>Bottrill Mitchell</td>\n",
       "      <td>MitchellBottrill@gustr.com</td>\n",
       "      <td>ORG_INVITE</td>\n",
       "      <td>1.363735e+09</td>\n",
       "      <td>0</td>\n",
       "      <td>0</td>\n",
       "      <td>94</td>\n",
       "      <td>1525.0</td>\n",
       "      <td>3</td>\n",
       "      <td>0</td>\n",
       "    </tr>\n",
       "    <tr>\n",
       "      <th>3</th>\n",
       "      <td>4</td>\n",
       "      <td>2013-05-21 08:09:28</td>\n",
       "      <td>Clausen Nicklas</td>\n",
       "      <td>NicklasSClausen@yahoo.com</td>\n",
       "      <td>GUEST_INVITE</td>\n",
       "      <td>1.369210e+09</td>\n",
       "      <td>0</td>\n",
       "      <td>0</td>\n",
       "      <td>1</td>\n",
       "      <td>5151.0</td>\n",
       "      <td>4</td>\n",
       "      <td>0</td>\n",
       "    </tr>\n",
       "    <tr>\n",
       "      <th>4</th>\n",
       "      <td>5</td>\n",
       "      <td>2013-01-17 10:14:20</td>\n",
       "      <td>Raw Grace</td>\n",
       "      <td>GraceRaw@yahoo.com</td>\n",
       "      <td>GUEST_INVITE</td>\n",
       "      <td>1.358850e+09</td>\n",
       "      <td>0</td>\n",
       "      <td>0</td>\n",
       "      <td>193</td>\n",
       "      <td>5240.0</td>\n",
       "      <td>5</td>\n",
       "      <td>0</td>\n",
       "    </tr>\n",
       "    <tr>\n",
       "      <th>...</th>\n",
       "      <td>...</td>\n",
       "      <td>...</td>\n",
       "      <td>...</td>\n",
       "      <td>...</td>\n",
       "      <td>...</td>\n",
       "      <td>...</td>\n",
       "      <td>...</td>\n",
       "      <td>...</td>\n",
       "      <td>...</td>\n",
       "      <td>...</td>\n",
       "      <td>...</td>\n",
       "      <td>...</td>\n",
       "    </tr>\n",
       "    <tr>\n",
       "      <th>8818</th>\n",
       "      <td>11996</td>\n",
       "      <td>2013-09-06 06:14:15</td>\n",
       "      <td>Meier Sophia</td>\n",
       "      <td>SophiaMeier@gustr.com</td>\n",
       "      <td>ORG_INVITE</td>\n",
       "      <td>1.378448e+09</td>\n",
       "      <td>0</td>\n",
       "      <td>0</td>\n",
       "      <td>89</td>\n",
       "      <td>8263.0</td>\n",
       "      <td>11996</td>\n",
       "      <td>0</td>\n",
       "    </tr>\n",
       "    <tr>\n",
       "      <th>8819</th>\n",
       "      <td>11997</td>\n",
       "      <td>2013-01-10 18:28:37</td>\n",
       "      <td>Fisher Amelie</td>\n",
       "      <td>AmelieFisher@gmail.com</td>\n",
       "      <td>SIGNUP_GOOGLE_AUTH</td>\n",
       "      <td>1.358275e+09</td>\n",
       "      <td>0</td>\n",
       "      <td>0</td>\n",
       "      <td>200</td>\n",
       "      <td>NaN</td>\n",
       "      <td>11997</td>\n",
       "      <td>0</td>\n",
       "    </tr>\n",
       "    <tr>\n",
       "      <th>8820</th>\n",
       "      <td>11998</td>\n",
       "      <td>2014-04-27 12:45:16</td>\n",
       "      <td>Haynes Jake</td>\n",
       "      <td>JakeHaynes@cuvox.de</td>\n",
       "      <td>GUEST_INVITE</td>\n",
       "      <td>1.398603e+09</td>\n",
       "      <td>1</td>\n",
       "      <td>1</td>\n",
       "      <td>83</td>\n",
       "      <td>8074.0</td>\n",
       "      <td>11998</td>\n",
       "      <td>0</td>\n",
       "    </tr>\n",
       "    <tr>\n",
       "      <th>8821</th>\n",
       "      <td>11999</td>\n",
       "      <td>2012-05-31 11:55:59</td>\n",
       "      <td>Faber Annett</td>\n",
       "      <td>mhaerzxp@iuxiw.com</td>\n",
       "      <td>PERSONAL_PROJECTS</td>\n",
       "      <td>1.338638e+09</td>\n",
       "      <td>0</td>\n",
       "      <td>0</td>\n",
       "      <td>6</td>\n",
       "      <td>NaN</td>\n",
       "      <td>11999</td>\n",
       "      <td>0</td>\n",
       "    </tr>\n",
       "    <tr>\n",
       "      <th>8822</th>\n",
       "      <td>12000</td>\n",
       "      <td>2014-01-26 08:57:12</td>\n",
       "      <td>Lima Thaís</td>\n",
       "      <td>ThaisMeloLima@hotmail.com</td>\n",
       "      <td>SIGNUP</td>\n",
       "      <td>1.390727e+09</td>\n",
       "      <td>0</td>\n",
       "      <td>1</td>\n",
       "      <td>0</td>\n",
       "      <td>NaN</td>\n",
       "      <td>12000</td>\n",
       "      <td>0</td>\n",
       "    </tr>\n",
       "  </tbody>\n",
       "</table>\n",
       "<p>8823 rows × 12 columns</p>\n",
       "</div>"
      ],
      "text/plain": [
       "      object_id        creation_time               name  \\\n",
       "0             1  2014-04-22 03:53:30     Clausen August   \n",
       "1             2  2013-11-15 03:45:04      Poole Matthew   \n",
       "2             3  2013-03-19 23:14:52  Bottrill Mitchell   \n",
       "3             4  2013-05-21 08:09:28    Clausen Nicklas   \n",
       "4             5  2013-01-17 10:14:20          Raw Grace   \n",
       "...         ...                  ...                ...   \n",
       "8818      11996  2013-09-06 06:14:15       Meier Sophia   \n",
       "8819      11997  2013-01-10 18:28:37      Fisher Amelie   \n",
       "8820      11998  2014-04-27 12:45:16        Haynes Jake   \n",
       "8821      11999  2012-05-31 11:55:59       Faber Annett   \n",
       "8822      12000  2014-01-26 08:57:12         Lima Thaís   \n",
       "\n",
       "                           email     creation_source  \\\n",
       "0       AugustCClausen@yahoo.com        GUEST_INVITE   \n",
       "1         MatthewPoole@gustr.com          ORG_INVITE   \n",
       "2     MitchellBottrill@gustr.com          ORG_INVITE   \n",
       "3      NicklasSClausen@yahoo.com        GUEST_INVITE   \n",
       "4             GraceRaw@yahoo.com        GUEST_INVITE   \n",
       "...                          ...                 ...   \n",
       "8818       SophiaMeier@gustr.com          ORG_INVITE   \n",
       "8819      AmelieFisher@gmail.com  SIGNUP_GOOGLE_AUTH   \n",
       "8820         JakeHaynes@cuvox.de        GUEST_INVITE   \n",
       "8821          mhaerzxp@iuxiw.com   PERSONAL_PROJECTS   \n",
       "8822   ThaisMeloLima@hotmail.com              SIGNUP   \n",
       "\n",
       "      last_session_creation_time  opted_in_to_mailing_list  \\\n",
       "0                   1.398139e+09                         1   \n",
       "1                   1.396238e+09                         0   \n",
       "2                   1.363735e+09                         0   \n",
       "3                   1.369210e+09                         0   \n",
       "4                   1.358850e+09                         0   \n",
       "...                          ...                       ...   \n",
       "8818                1.378448e+09                         0   \n",
       "8819                1.358275e+09                         0   \n",
       "8820                1.398603e+09                         1   \n",
       "8821                1.338638e+09                         0   \n",
       "8822                1.390727e+09                         0   \n",
       "\n",
       "      enabled_for_marketing_drip  org_id  invited_by_user_id  user_id  adopted  \n",
       "0                              0      11             10803.0        1        0  \n",
       "1                              0       1               316.0        2        1  \n",
       "2                              0      94              1525.0        3        0  \n",
       "3                              0       1              5151.0        4        0  \n",
       "4                              0     193              5240.0        5        0  \n",
       "...                          ...     ...                 ...      ...      ...  \n",
       "8818                           0      89              8263.0    11996        0  \n",
       "8819                           0     200                 NaN    11997        0  \n",
       "8820                           1      83              8074.0    11998        0  \n",
       "8821                           0       6                 NaN    11999        0  \n",
       "8822                           1       0                 NaN    12000        0  \n",
       "\n",
       "[8823 rows x 12 columns]"
      ]
     },
     "execution_count": 148,
     "metadata": {},
     "output_type": "execute_result"
    }
   ],
   "source": [
    "merger"
   ]
  },
  {
   "cell_type": "markdown",
   "id": "99a8243b-158c-45e4-8d3a-c28b04f2498f",
   "metadata": {},
   "source": [
    "#### Some of the features will not contribute much (if anything) to the model so I will discard them."
   ]
  },
  {
   "cell_type": "code",
   "execution_count": 149,
   "id": "fd2cbb71-6b24-42dd-a3c9-2ba86ddf8c0f",
   "metadata": {},
   "outputs": [],
   "source": [
    "merger_drop = merger.drop(columns=['object_id', 'name', 'email'])"
   ]
  },
  {
   "cell_type": "code",
   "execution_count": 150,
   "id": "0546bb7c-32c3-4331-b75b-910081b4ba30",
   "metadata": {},
   "outputs": [
    {
     "data": {
      "text/html": [
       "<div>\n",
       "<style scoped>\n",
       "    .dataframe tbody tr th:only-of-type {\n",
       "        vertical-align: middle;\n",
       "    }\n",
       "\n",
       "    .dataframe tbody tr th {\n",
       "        vertical-align: top;\n",
       "    }\n",
       "\n",
       "    .dataframe thead th {\n",
       "        text-align: right;\n",
       "    }\n",
       "</style>\n",
       "<table border=\"1\" class=\"dataframe\">\n",
       "  <thead>\n",
       "    <tr style=\"text-align: right;\">\n",
       "      <th></th>\n",
       "      <th>creation_time</th>\n",
       "      <th>creation_source</th>\n",
       "      <th>last_session_creation_time</th>\n",
       "      <th>opted_in_to_mailing_list</th>\n",
       "      <th>enabled_for_marketing_drip</th>\n",
       "      <th>org_id</th>\n",
       "      <th>invited_by_user_id</th>\n",
       "      <th>user_id</th>\n",
       "      <th>adopted</th>\n",
       "    </tr>\n",
       "  </thead>\n",
       "  <tbody>\n",
       "    <tr>\n",
       "      <th>0</th>\n",
       "      <td>2014-04-22 03:53:30</td>\n",
       "      <td>GUEST_INVITE</td>\n",
       "      <td>1.398139e+09</td>\n",
       "      <td>1</td>\n",
       "      <td>0</td>\n",
       "      <td>11</td>\n",
       "      <td>10803.0</td>\n",
       "      <td>1</td>\n",
       "      <td>0</td>\n",
       "    </tr>\n",
       "    <tr>\n",
       "      <th>1</th>\n",
       "      <td>2013-11-15 03:45:04</td>\n",
       "      <td>ORG_INVITE</td>\n",
       "      <td>1.396238e+09</td>\n",
       "      <td>0</td>\n",
       "      <td>0</td>\n",
       "      <td>1</td>\n",
       "      <td>316.0</td>\n",
       "      <td>2</td>\n",
       "      <td>1</td>\n",
       "    </tr>\n",
       "    <tr>\n",
       "      <th>2</th>\n",
       "      <td>2013-03-19 23:14:52</td>\n",
       "      <td>ORG_INVITE</td>\n",
       "      <td>1.363735e+09</td>\n",
       "      <td>0</td>\n",
       "      <td>0</td>\n",
       "      <td>94</td>\n",
       "      <td>1525.0</td>\n",
       "      <td>3</td>\n",
       "      <td>0</td>\n",
       "    </tr>\n",
       "    <tr>\n",
       "      <th>3</th>\n",
       "      <td>2013-05-21 08:09:28</td>\n",
       "      <td>GUEST_INVITE</td>\n",
       "      <td>1.369210e+09</td>\n",
       "      <td>0</td>\n",
       "      <td>0</td>\n",
       "      <td>1</td>\n",
       "      <td>5151.0</td>\n",
       "      <td>4</td>\n",
       "      <td>0</td>\n",
       "    </tr>\n",
       "    <tr>\n",
       "      <th>4</th>\n",
       "      <td>2013-01-17 10:14:20</td>\n",
       "      <td>GUEST_INVITE</td>\n",
       "      <td>1.358850e+09</td>\n",
       "      <td>0</td>\n",
       "      <td>0</td>\n",
       "      <td>193</td>\n",
       "      <td>5240.0</td>\n",
       "      <td>5</td>\n",
       "      <td>0</td>\n",
       "    </tr>\n",
       "    <tr>\n",
       "      <th>...</th>\n",
       "      <td>...</td>\n",
       "      <td>...</td>\n",
       "      <td>...</td>\n",
       "      <td>...</td>\n",
       "      <td>...</td>\n",
       "      <td>...</td>\n",
       "      <td>...</td>\n",
       "      <td>...</td>\n",
       "      <td>...</td>\n",
       "    </tr>\n",
       "    <tr>\n",
       "      <th>8818</th>\n",
       "      <td>2013-09-06 06:14:15</td>\n",
       "      <td>ORG_INVITE</td>\n",
       "      <td>1.378448e+09</td>\n",
       "      <td>0</td>\n",
       "      <td>0</td>\n",
       "      <td>89</td>\n",
       "      <td>8263.0</td>\n",
       "      <td>11996</td>\n",
       "      <td>0</td>\n",
       "    </tr>\n",
       "    <tr>\n",
       "      <th>8819</th>\n",
       "      <td>2013-01-10 18:28:37</td>\n",
       "      <td>SIGNUP_GOOGLE_AUTH</td>\n",
       "      <td>1.358275e+09</td>\n",
       "      <td>0</td>\n",
       "      <td>0</td>\n",
       "      <td>200</td>\n",
       "      <td>NaN</td>\n",
       "      <td>11997</td>\n",
       "      <td>0</td>\n",
       "    </tr>\n",
       "    <tr>\n",
       "      <th>8820</th>\n",
       "      <td>2014-04-27 12:45:16</td>\n",
       "      <td>GUEST_INVITE</td>\n",
       "      <td>1.398603e+09</td>\n",
       "      <td>1</td>\n",
       "      <td>1</td>\n",
       "      <td>83</td>\n",
       "      <td>8074.0</td>\n",
       "      <td>11998</td>\n",
       "      <td>0</td>\n",
       "    </tr>\n",
       "    <tr>\n",
       "      <th>8821</th>\n",
       "      <td>2012-05-31 11:55:59</td>\n",
       "      <td>PERSONAL_PROJECTS</td>\n",
       "      <td>1.338638e+09</td>\n",
       "      <td>0</td>\n",
       "      <td>0</td>\n",
       "      <td>6</td>\n",
       "      <td>NaN</td>\n",
       "      <td>11999</td>\n",
       "      <td>0</td>\n",
       "    </tr>\n",
       "    <tr>\n",
       "      <th>8822</th>\n",
       "      <td>2014-01-26 08:57:12</td>\n",
       "      <td>SIGNUP</td>\n",
       "      <td>1.390727e+09</td>\n",
       "      <td>0</td>\n",
       "      <td>1</td>\n",
       "      <td>0</td>\n",
       "      <td>NaN</td>\n",
       "      <td>12000</td>\n",
       "      <td>0</td>\n",
       "    </tr>\n",
       "  </tbody>\n",
       "</table>\n",
       "<p>8823 rows × 9 columns</p>\n",
       "</div>"
      ],
      "text/plain": [
       "            creation_time     creation_source  last_session_creation_time  \\\n",
       "0     2014-04-22 03:53:30        GUEST_INVITE                1.398139e+09   \n",
       "1     2013-11-15 03:45:04          ORG_INVITE                1.396238e+09   \n",
       "2     2013-03-19 23:14:52          ORG_INVITE                1.363735e+09   \n",
       "3     2013-05-21 08:09:28        GUEST_INVITE                1.369210e+09   \n",
       "4     2013-01-17 10:14:20        GUEST_INVITE                1.358850e+09   \n",
       "...                   ...                 ...                         ...   \n",
       "8818  2013-09-06 06:14:15          ORG_INVITE                1.378448e+09   \n",
       "8819  2013-01-10 18:28:37  SIGNUP_GOOGLE_AUTH                1.358275e+09   \n",
       "8820  2014-04-27 12:45:16        GUEST_INVITE                1.398603e+09   \n",
       "8821  2012-05-31 11:55:59   PERSONAL_PROJECTS                1.338638e+09   \n",
       "8822  2014-01-26 08:57:12              SIGNUP                1.390727e+09   \n",
       "\n",
       "      opted_in_to_mailing_list  enabled_for_marketing_drip  org_id  \\\n",
       "0                            1                           0      11   \n",
       "1                            0                           0       1   \n",
       "2                            0                           0      94   \n",
       "3                            0                           0       1   \n",
       "4                            0                           0     193   \n",
       "...                        ...                         ...     ...   \n",
       "8818                         0                           0      89   \n",
       "8819                         0                           0     200   \n",
       "8820                         1                           1      83   \n",
       "8821                         0                           0       6   \n",
       "8822                         0                           1       0   \n",
       "\n",
       "      invited_by_user_id  user_id  adopted  \n",
       "0                10803.0        1        0  \n",
       "1                  316.0        2        1  \n",
       "2                 1525.0        3        0  \n",
       "3                 5151.0        4        0  \n",
       "4                 5240.0        5        0  \n",
       "...                  ...      ...      ...  \n",
       "8818              8263.0    11996        0  \n",
       "8819                 NaN    11997        0  \n",
       "8820              8074.0    11998        0  \n",
       "8821                 NaN    11999        0  \n",
       "8822                 NaN    12000        0  \n",
       "\n",
       "[8823 rows x 9 columns]"
      ]
     },
     "execution_count": 150,
     "metadata": {},
     "output_type": "execute_result"
    }
   ],
   "source": [
    "merger_drop"
   ]
  },
  {
   "cell_type": "markdown",
   "id": "3d0d485d-4c28-4ff3-814f-61abd6c8ace8",
   "metadata": {},
   "source": [
    "#### It seems that the length of time a user has an account should play a role in determing if they will become an adopted user.  To that end I will compute how much time has elapsed from the beginning of the account creation to the last known login."
   ]
  },
  {
   "cell_type": "code",
   "execution_count": 151,
   "id": "cabf9396-ed8d-4038-b89f-909b4907d64f",
   "metadata": {},
   "outputs": [],
   "source": [
    "merger_drop['last_session_creation_time'] = pd.to_datetime(merger_drop['last_session_creation_time'], unit='s')"
   ]
  },
  {
   "cell_type": "code",
   "execution_count": 152,
   "id": "3c4e0936-4477-4e9b-bc5b-a1ebcf7c1d53",
   "metadata": {},
   "outputs": [
    {
     "data": {
      "text/plain": [
       "creation_time                         object\n",
       "creation_source                       object\n",
       "last_session_creation_time    datetime64[ns]\n",
       "opted_in_to_mailing_list               int64\n",
       "enabled_for_marketing_drip             int64\n",
       "org_id                                 int64\n",
       "invited_by_user_id                   float64\n",
       "user_id                                int64\n",
       "adopted                                int32\n",
       "dtype: object"
      ]
     },
     "execution_count": 152,
     "metadata": {},
     "output_type": "execute_result"
    }
   ],
   "source": [
    "merger_drop.dtypes"
   ]
  },
  {
   "cell_type": "code",
   "execution_count": 153,
   "id": "9cb1d379-2b04-49c5-90d3-bbd180652ecb",
   "metadata": {},
   "outputs": [],
   "source": [
    "merger_drop['creation_time'] = pd.to_datetime(merger_drop['creation_time'])"
   ]
  },
  {
   "cell_type": "code",
   "execution_count": 154,
   "id": "b31fafa4-125e-4178-9574-030fa77dc1d4",
   "metadata": {},
   "outputs": [],
   "source": [
    "merger_drop['approx_account_duration'] = (merger_drop['last_session_creation_time'] - merger_drop['creation_time']).dt.days"
   ]
  },
  {
   "cell_type": "code",
   "execution_count": 155,
   "id": "c1ce18eb-8294-4ffe-a249-5ccb7265781b",
   "metadata": {},
   "outputs": [
    {
     "data": {
      "text/html": [
       "<div>\n",
       "<style scoped>\n",
       "    .dataframe tbody tr th:only-of-type {\n",
       "        vertical-align: middle;\n",
       "    }\n",
       "\n",
       "    .dataframe tbody tr th {\n",
       "        vertical-align: top;\n",
       "    }\n",
       "\n",
       "    .dataframe thead th {\n",
       "        text-align: right;\n",
       "    }\n",
       "</style>\n",
       "<table border=\"1\" class=\"dataframe\">\n",
       "  <thead>\n",
       "    <tr style=\"text-align: right;\">\n",
       "      <th></th>\n",
       "      <th>creation_time</th>\n",
       "      <th>creation_source</th>\n",
       "      <th>last_session_creation_time</th>\n",
       "      <th>opted_in_to_mailing_list</th>\n",
       "      <th>enabled_for_marketing_drip</th>\n",
       "      <th>org_id</th>\n",
       "      <th>invited_by_user_id</th>\n",
       "      <th>user_id</th>\n",
       "      <th>adopted</th>\n",
       "      <th>approx_account_duration</th>\n",
       "    </tr>\n",
       "  </thead>\n",
       "  <tbody>\n",
       "    <tr>\n",
       "      <th>0</th>\n",
       "      <td>2014-04-22 03:53:30</td>\n",
       "      <td>GUEST_INVITE</td>\n",
       "      <td>2014-04-22 03:53:30</td>\n",
       "      <td>1</td>\n",
       "      <td>0</td>\n",
       "      <td>11</td>\n",
       "      <td>10803.0</td>\n",
       "      <td>1</td>\n",
       "      <td>0</td>\n",
       "      <td>0</td>\n",
       "    </tr>\n",
       "    <tr>\n",
       "      <th>1</th>\n",
       "      <td>2013-11-15 03:45:04</td>\n",
       "      <td>ORG_INVITE</td>\n",
       "      <td>2014-03-31 03:45:04</td>\n",
       "      <td>0</td>\n",
       "      <td>0</td>\n",
       "      <td>1</td>\n",
       "      <td>316.0</td>\n",
       "      <td>2</td>\n",
       "      <td>1</td>\n",
       "      <td>136</td>\n",
       "    </tr>\n",
       "    <tr>\n",
       "      <th>2</th>\n",
       "      <td>2013-03-19 23:14:52</td>\n",
       "      <td>ORG_INVITE</td>\n",
       "      <td>2013-03-19 23:14:52</td>\n",
       "      <td>0</td>\n",
       "      <td>0</td>\n",
       "      <td>94</td>\n",
       "      <td>1525.0</td>\n",
       "      <td>3</td>\n",
       "      <td>0</td>\n",
       "      <td>0</td>\n",
       "    </tr>\n",
       "    <tr>\n",
       "      <th>3</th>\n",
       "      <td>2013-05-21 08:09:28</td>\n",
       "      <td>GUEST_INVITE</td>\n",
       "      <td>2013-05-22 08:09:28</td>\n",
       "      <td>0</td>\n",
       "      <td>0</td>\n",
       "      <td>1</td>\n",
       "      <td>5151.0</td>\n",
       "      <td>4</td>\n",
       "      <td>0</td>\n",
       "      <td>1</td>\n",
       "    </tr>\n",
       "    <tr>\n",
       "      <th>4</th>\n",
       "      <td>2013-01-17 10:14:20</td>\n",
       "      <td>GUEST_INVITE</td>\n",
       "      <td>2013-01-22 10:14:20</td>\n",
       "      <td>0</td>\n",
       "      <td>0</td>\n",
       "      <td>193</td>\n",
       "      <td>5240.0</td>\n",
       "      <td>5</td>\n",
       "      <td>0</td>\n",
       "      <td>5</td>\n",
       "    </tr>\n",
       "    <tr>\n",
       "      <th>...</th>\n",
       "      <td>...</td>\n",
       "      <td>...</td>\n",
       "      <td>...</td>\n",
       "      <td>...</td>\n",
       "      <td>...</td>\n",
       "      <td>...</td>\n",
       "      <td>...</td>\n",
       "      <td>...</td>\n",
       "      <td>...</td>\n",
       "      <td>...</td>\n",
       "    </tr>\n",
       "    <tr>\n",
       "      <th>8818</th>\n",
       "      <td>2013-09-06 06:14:15</td>\n",
       "      <td>ORG_INVITE</td>\n",
       "      <td>2013-09-06 06:14:15</td>\n",
       "      <td>0</td>\n",
       "      <td>0</td>\n",
       "      <td>89</td>\n",
       "      <td>8263.0</td>\n",
       "      <td>11996</td>\n",
       "      <td>0</td>\n",
       "      <td>0</td>\n",
       "    </tr>\n",
       "    <tr>\n",
       "      <th>8819</th>\n",
       "      <td>2013-01-10 18:28:37</td>\n",
       "      <td>SIGNUP_GOOGLE_AUTH</td>\n",
       "      <td>2013-01-15 18:28:37</td>\n",
       "      <td>0</td>\n",
       "      <td>0</td>\n",
       "      <td>200</td>\n",
       "      <td>0.0</td>\n",
       "      <td>11997</td>\n",
       "      <td>0</td>\n",
       "      <td>5</td>\n",
       "    </tr>\n",
       "    <tr>\n",
       "      <th>8820</th>\n",
       "      <td>2014-04-27 12:45:16</td>\n",
       "      <td>GUEST_INVITE</td>\n",
       "      <td>2014-04-27 12:45:16</td>\n",
       "      <td>1</td>\n",
       "      <td>1</td>\n",
       "      <td>83</td>\n",
       "      <td>8074.0</td>\n",
       "      <td>11998</td>\n",
       "      <td>0</td>\n",
       "      <td>0</td>\n",
       "    </tr>\n",
       "    <tr>\n",
       "      <th>8821</th>\n",
       "      <td>2012-05-31 11:55:59</td>\n",
       "      <td>PERSONAL_PROJECTS</td>\n",
       "      <td>2012-06-02 11:55:59</td>\n",
       "      <td>0</td>\n",
       "      <td>0</td>\n",
       "      <td>6</td>\n",
       "      <td>0.0</td>\n",
       "      <td>11999</td>\n",
       "      <td>0</td>\n",
       "      <td>2</td>\n",
       "    </tr>\n",
       "    <tr>\n",
       "      <th>8822</th>\n",
       "      <td>2014-01-26 08:57:12</td>\n",
       "      <td>SIGNUP</td>\n",
       "      <td>2014-01-26 08:57:12</td>\n",
       "      <td>0</td>\n",
       "      <td>1</td>\n",
       "      <td>0</td>\n",
       "      <td>0.0</td>\n",
       "      <td>12000</td>\n",
       "      <td>0</td>\n",
       "      <td>0</td>\n",
       "    </tr>\n",
       "  </tbody>\n",
       "</table>\n",
       "<p>8823 rows × 10 columns</p>\n",
       "</div>"
      ],
      "text/plain": [
       "           creation_time     creation_source last_session_creation_time  \\\n",
       "0    2014-04-22 03:53:30        GUEST_INVITE        2014-04-22 03:53:30   \n",
       "1    2013-11-15 03:45:04          ORG_INVITE        2014-03-31 03:45:04   \n",
       "2    2013-03-19 23:14:52          ORG_INVITE        2013-03-19 23:14:52   \n",
       "3    2013-05-21 08:09:28        GUEST_INVITE        2013-05-22 08:09:28   \n",
       "4    2013-01-17 10:14:20        GUEST_INVITE        2013-01-22 10:14:20   \n",
       "...                  ...                 ...                        ...   \n",
       "8818 2013-09-06 06:14:15          ORG_INVITE        2013-09-06 06:14:15   \n",
       "8819 2013-01-10 18:28:37  SIGNUP_GOOGLE_AUTH        2013-01-15 18:28:37   \n",
       "8820 2014-04-27 12:45:16        GUEST_INVITE        2014-04-27 12:45:16   \n",
       "8821 2012-05-31 11:55:59   PERSONAL_PROJECTS        2012-06-02 11:55:59   \n",
       "8822 2014-01-26 08:57:12              SIGNUP        2014-01-26 08:57:12   \n",
       "\n",
       "      opted_in_to_mailing_list  enabled_for_marketing_drip  org_id  \\\n",
       "0                            1                           0      11   \n",
       "1                            0                           0       1   \n",
       "2                            0                           0      94   \n",
       "3                            0                           0       1   \n",
       "4                            0                           0     193   \n",
       "...                        ...                         ...     ...   \n",
       "8818                         0                           0      89   \n",
       "8819                         0                           0     200   \n",
       "8820                         1                           1      83   \n",
       "8821                         0                           0       6   \n",
       "8822                         0                           1       0   \n",
       "\n",
       "      invited_by_user_id  user_id  adopted  approx_account_duration  \n",
       "0                10803.0        1        0                        0  \n",
       "1                  316.0        2        1                      136  \n",
       "2                 1525.0        3        0                        0  \n",
       "3                 5151.0        4        0                        1  \n",
       "4                 5240.0        5        0                        5  \n",
       "...                  ...      ...      ...                      ...  \n",
       "8818              8263.0    11996        0                        0  \n",
       "8819                 0.0    11997        0                        5  \n",
       "8820              8074.0    11998        0                        0  \n",
       "8821                 0.0    11999        0                        2  \n",
       "8822                 0.0    12000        0                        0  \n",
       "\n",
       "[8823 rows x 10 columns]"
      ]
     },
     "execution_count": 155,
     "metadata": {},
     "output_type": "execute_result"
    }
   ],
   "source": [
    "merger_drop['invited_by_user_id'].fillna(0, inplace=True)  #'0' will represent a user not being invited by another user.\n",
    "merger_drop"
   ]
  },
  {
   "cell_type": "code",
   "execution_count": 156,
   "id": "87bee609-0f46-4540-a3dc-3eabeccd2b66",
   "metadata": {},
   "outputs": [
    {
     "name": "stdout",
     "output_type": "stream",
     "text": [
      "<class 'pandas.core.frame.DataFrame'>\n",
      "RangeIndex: 8823 entries, 0 to 8822\n",
      "Data columns (total 10 columns):\n",
      " #   Column                      Non-Null Count  Dtype         \n",
      "---  ------                      --------------  -----         \n",
      " 0   creation_time               8823 non-null   datetime64[ns]\n",
      " 1   creation_source             8823 non-null   object        \n",
      " 2   last_session_creation_time  8823 non-null   datetime64[ns]\n",
      " 3   opted_in_to_mailing_list    8823 non-null   int64         \n",
      " 4   enabled_for_marketing_drip  8823 non-null   int64         \n",
      " 5   org_id                      8823 non-null   int64         \n",
      " 6   invited_by_user_id          8823 non-null   float64       \n",
      " 7   user_id                     8823 non-null   int64         \n",
      " 8   adopted                     8823 non-null   int32         \n",
      " 9   approx_account_duration     8823 non-null   int64         \n",
      "dtypes: datetime64[ns](2), float64(1), int32(1), int64(5), object(1)\n",
      "memory usage: 655.0+ KB\n"
     ]
    }
   ],
   "source": [
    "merger_drop.info()"
   ]
  },
  {
   "cell_type": "markdown",
   "id": "dbcce01d-cc5d-4bda-8436-79e774a1bc06",
   "metadata": {},
   "source": [
    "#### Now to Convert the 'creation_source' column to 1s and 0s"
   ]
  },
  {
   "cell_type": "code",
   "execution_count": 157,
   "id": "76219d0e-c3a3-4d17-a22b-c6d89c811517",
   "metadata": {},
   "outputs": [],
   "source": [
    "merger_drop = pd.get_dummies(merger_drop, drop_first = True)"
   ]
  },
  {
   "cell_type": "code",
   "execution_count": 158,
   "id": "e1dd829f-562f-4e0f-ad6c-abe06fbb0ce3",
   "metadata": {},
   "outputs": [
    {
     "name": "stdout",
     "output_type": "stream",
     "text": [
      "<class 'pandas.core.frame.DataFrame'>\n",
      "RangeIndex: 8823 entries, 0 to 8822\n",
      "Data columns (total 13 columns):\n",
      " #   Column                              Non-Null Count  Dtype         \n",
      "---  ------                              --------------  -----         \n",
      " 0   creation_time                       8823 non-null   datetime64[ns]\n",
      " 1   last_session_creation_time          8823 non-null   datetime64[ns]\n",
      " 2   opted_in_to_mailing_list            8823 non-null   int64         \n",
      " 3   enabled_for_marketing_drip          8823 non-null   int64         \n",
      " 4   org_id                              8823 non-null   int64         \n",
      " 5   invited_by_user_id                  8823 non-null   float64       \n",
      " 6   user_id                             8823 non-null   int64         \n",
      " 7   adopted                             8823 non-null   int32         \n",
      " 8   approx_account_duration             8823 non-null   int64         \n",
      " 9   creation_source_ORG_INVITE          8823 non-null   bool          \n",
      " 10  creation_source_PERSONAL_PROJECTS   8823 non-null   bool          \n",
      " 11  creation_source_SIGNUP              8823 non-null   bool          \n",
      " 12  creation_source_SIGNUP_GOOGLE_AUTH  8823 non-null   bool          \n",
      "dtypes: bool(4), datetime64[ns](2), float64(1), int32(1), int64(5)\n",
      "memory usage: 620.5 KB\n"
     ]
    }
   ],
   "source": [
    "merger_drop.info()"
   ]
  },
  {
   "cell_type": "code",
   "execution_count": 159,
   "id": "dc7ebc38-d852-4ca5-b803-f07eb6eca77f",
   "metadata": {},
   "outputs": [],
   "source": [
    "merger_drop[['creation_source_ORG_INVITE', 'creation_source_PERSONAL_PROJECTS', \\\n",
    "             'creation_source_SIGNUP', 'creation_source_SIGNUP_GOOGLE_AUTH']] = merger_drop[['creation_source_ORG_INVITE', 'creation_source_PERSONAL_PROJECTS', \\\n",
    "              'creation_source_SIGNUP', 'creation_source_SIGNUP_GOOGLE_AUTH']].astype(int)"
   ]
  },
  {
   "cell_type": "code",
   "execution_count": 160,
   "id": "b6957fdd-2943-4f9a-81fb-fe7438106266",
   "metadata": {},
   "outputs": [
    {
     "data": {
      "text/html": [
       "<div>\n",
       "<style scoped>\n",
       "    .dataframe tbody tr th:only-of-type {\n",
       "        vertical-align: middle;\n",
       "    }\n",
       "\n",
       "    .dataframe tbody tr th {\n",
       "        vertical-align: top;\n",
       "    }\n",
       "\n",
       "    .dataframe thead th {\n",
       "        text-align: right;\n",
       "    }\n",
       "</style>\n",
       "<table border=\"1\" class=\"dataframe\">\n",
       "  <thead>\n",
       "    <tr style=\"text-align: right;\">\n",
       "      <th></th>\n",
       "      <th>creation_time</th>\n",
       "      <th>last_session_creation_time</th>\n",
       "      <th>opted_in_to_mailing_list</th>\n",
       "      <th>enabled_for_marketing_drip</th>\n",
       "      <th>org_id</th>\n",
       "      <th>invited_by_user_id</th>\n",
       "      <th>user_id</th>\n",
       "      <th>adopted</th>\n",
       "      <th>approx_account_duration</th>\n",
       "      <th>creation_source_ORG_INVITE</th>\n",
       "      <th>creation_source_PERSONAL_PROJECTS</th>\n",
       "      <th>creation_source_SIGNUP</th>\n",
       "      <th>creation_source_SIGNUP_GOOGLE_AUTH</th>\n",
       "    </tr>\n",
       "  </thead>\n",
       "  <tbody>\n",
       "    <tr>\n",
       "      <th>0</th>\n",
       "      <td>2014-04-22 03:53:30</td>\n",
       "      <td>2014-04-22 03:53:30</td>\n",
       "      <td>1</td>\n",
       "      <td>0</td>\n",
       "      <td>11</td>\n",
       "      <td>10803.0</td>\n",
       "      <td>1</td>\n",
       "      <td>0</td>\n",
       "      <td>0</td>\n",
       "      <td>0</td>\n",
       "      <td>0</td>\n",
       "      <td>0</td>\n",
       "      <td>0</td>\n",
       "    </tr>\n",
       "    <tr>\n",
       "      <th>1</th>\n",
       "      <td>2013-11-15 03:45:04</td>\n",
       "      <td>2014-03-31 03:45:04</td>\n",
       "      <td>0</td>\n",
       "      <td>0</td>\n",
       "      <td>1</td>\n",
       "      <td>316.0</td>\n",
       "      <td>2</td>\n",
       "      <td>1</td>\n",
       "      <td>136</td>\n",
       "      <td>1</td>\n",
       "      <td>0</td>\n",
       "      <td>0</td>\n",
       "      <td>0</td>\n",
       "    </tr>\n",
       "    <tr>\n",
       "      <th>2</th>\n",
       "      <td>2013-03-19 23:14:52</td>\n",
       "      <td>2013-03-19 23:14:52</td>\n",
       "      <td>0</td>\n",
       "      <td>0</td>\n",
       "      <td>94</td>\n",
       "      <td>1525.0</td>\n",
       "      <td>3</td>\n",
       "      <td>0</td>\n",
       "      <td>0</td>\n",
       "      <td>1</td>\n",
       "      <td>0</td>\n",
       "      <td>0</td>\n",
       "      <td>0</td>\n",
       "    </tr>\n",
       "    <tr>\n",
       "      <th>3</th>\n",
       "      <td>2013-05-21 08:09:28</td>\n",
       "      <td>2013-05-22 08:09:28</td>\n",
       "      <td>0</td>\n",
       "      <td>0</td>\n",
       "      <td>1</td>\n",
       "      <td>5151.0</td>\n",
       "      <td>4</td>\n",
       "      <td>0</td>\n",
       "      <td>1</td>\n",
       "      <td>0</td>\n",
       "      <td>0</td>\n",
       "      <td>0</td>\n",
       "      <td>0</td>\n",
       "    </tr>\n",
       "    <tr>\n",
       "      <th>4</th>\n",
       "      <td>2013-01-17 10:14:20</td>\n",
       "      <td>2013-01-22 10:14:20</td>\n",
       "      <td>0</td>\n",
       "      <td>0</td>\n",
       "      <td>193</td>\n",
       "      <td>5240.0</td>\n",
       "      <td>5</td>\n",
       "      <td>0</td>\n",
       "      <td>5</td>\n",
       "      <td>0</td>\n",
       "      <td>0</td>\n",
       "      <td>0</td>\n",
       "      <td>0</td>\n",
       "    </tr>\n",
       "    <tr>\n",
       "      <th>...</th>\n",
       "      <td>...</td>\n",
       "      <td>...</td>\n",
       "      <td>...</td>\n",
       "      <td>...</td>\n",
       "      <td>...</td>\n",
       "      <td>...</td>\n",
       "      <td>...</td>\n",
       "      <td>...</td>\n",
       "      <td>...</td>\n",
       "      <td>...</td>\n",
       "      <td>...</td>\n",
       "      <td>...</td>\n",
       "      <td>...</td>\n",
       "    </tr>\n",
       "    <tr>\n",
       "      <th>8818</th>\n",
       "      <td>2013-09-06 06:14:15</td>\n",
       "      <td>2013-09-06 06:14:15</td>\n",
       "      <td>0</td>\n",
       "      <td>0</td>\n",
       "      <td>89</td>\n",
       "      <td>8263.0</td>\n",
       "      <td>11996</td>\n",
       "      <td>0</td>\n",
       "      <td>0</td>\n",
       "      <td>1</td>\n",
       "      <td>0</td>\n",
       "      <td>0</td>\n",
       "      <td>0</td>\n",
       "    </tr>\n",
       "    <tr>\n",
       "      <th>8819</th>\n",
       "      <td>2013-01-10 18:28:37</td>\n",
       "      <td>2013-01-15 18:28:37</td>\n",
       "      <td>0</td>\n",
       "      <td>0</td>\n",
       "      <td>200</td>\n",
       "      <td>0.0</td>\n",
       "      <td>11997</td>\n",
       "      <td>0</td>\n",
       "      <td>5</td>\n",
       "      <td>0</td>\n",
       "      <td>0</td>\n",
       "      <td>0</td>\n",
       "      <td>1</td>\n",
       "    </tr>\n",
       "    <tr>\n",
       "      <th>8820</th>\n",
       "      <td>2014-04-27 12:45:16</td>\n",
       "      <td>2014-04-27 12:45:16</td>\n",
       "      <td>1</td>\n",
       "      <td>1</td>\n",
       "      <td>83</td>\n",
       "      <td>8074.0</td>\n",
       "      <td>11998</td>\n",
       "      <td>0</td>\n",
       "      <td>0</td>\n",
       "      <td>0</td>\n",
       "      <td>0</td>\n",
       "      <td>0</td>\n",
       "      <td>0</td>\n",
       "    </tr>\n",
       "    <tr>\n",
       "      <th>8821</th>\n",
       "      <td>2012-05-31 11:55:59</td>\n",
       "      <td>2012-06-02 11:55:59</td>\n",
       "      <td>0</td>\n",
       "      <td>0</td>\n",
       "      <td>6</td>\n",
       "      <td>0.0</td>\n",
       "      <td>11999</td>\n",
       "      <td>0</td>\n",
       "      <td>2</td>\n",
       "      <td>0</td>\n",
       "      <td>1</td>\n",
       "      <td>0</td>\n",
       "      <td>0</td>\n",
       "    </tr>\n",
       "    <tr>\n",
       "      <th>8822</th>\n",
       "      <td>2014-01-26 08:57:12</td>\n",
       "      <td>2014-01-26 08:57:12</td>\n",
       "      <td>0</td>\n",
       "      <td>1</td>\n",
       "      <td>0</td>\n",
       "      <td>0.0</td>\n",
       "      <td>12000</td>\n",
       "      <td>0</td>\n",
       "      <td>0</td>\n",
       "      <td>0</td>\n",
       "      <td>0</td>\n",
       "      <td>1</td>\n",
       "      <td>0</td>\n",
       "    </tr>\n",
       "  </tbody>\n",
       "</table>\n",
       "<p>8823 rows × 13 columns</p>\n",
       "</div>"
      ],
      "text/plain": [
       "           creation_time last_session_creation_time  opted_in_to_mailing_list  \\\n",
       "0    2014-04-22 03:53:30        2014-04-22 03:53:30                         1   \n",
       "1    2013-11-15 03:45:04        2014-03-31 03:45:04                         0   \n",
       "2    2013-03-19 23:14:52        2013-03-19 23:14:52                         0   \n",
       "3    2013-05-21 08:09:28        2013-05-22 08:09:28                         0   \n",
       "4    2013-01-17 10:14:20        2013-01-22 10:14:20                         0   \n",
       "...                  ...                        ...                       ...   \n",
       "8818 2013-09-06 06:14:15        2013-09-06 06:14:15                         0   \n",
       "8819 2013-01-10 18:28:37        2013-01-15 18:28:37                         0   \n",
       "8820 2014-04-27 12:45:16        2014-04-27 12:45:16                         1   \n",
       "8821 2012-05-31 11:55:59        2012-06-02 11:55:59                         0   \n",
       "8822 2014-01-26 08:57:12        2014-01-26 08:57:12                         0   \n",
       "\n",
       "      enabled_for_marketing_drip  org_id  invited_by_user_id  user_id  \\\n",
       "0                              0      11             10803.0        1   \n",
       "1                              0       1               316.0        2   \n",
       "2                              0      94              1525.0        3   \n",
       "3                              0       1              5151.0        4   \n",
       "4                              0     193              5240.0        5   \n",
       "...                          ...     ...                 ...      ...   \n",
       "8818                           0      89              8263.0    11996   \n",
       "8819                           0     200                 0.0    11997   \n",
       "8820                           1      83              8074.0    11998   \n",
       "8821                           0       6                 0.0    11999   \n",
       "8822                           1       0                 0.0    12000   \n",
       "\n",
       "      adopted  approx_account_duration  creation_source_ORG_INVITE  \\\n",
       "0           0                        0                           0   \n",
       "1           1                      136                           1   \n",
       "2           0                        0                           1   \n",
       "3           0                        1                           0   \n",
       "4           0                        5                           0   \n",
       "...       ...                      ...                         ...   \n",
       "8818        0                        0                           1   \n",
       "8819        0                        5                           0   \n",
       "8820        0                        0                           0   \n",
       "8821        0                        2                           0   \n",
       "8822        0                        0                           0   \n",
       "\n",
       "      creation_source_PERSONAL_PROJECTS  creation_source_SIGNUP  \\\n",
       "0                                     0                       0   \n",
       "1                                     0                       0   \n",
       "2                                     0                       0   \n",
       "3                                     0                       0   \n",
       "4                                     0                       0   \n",
       "...                                 ...                     ...   \n",
       "8818                                  0                       0   \n",
       "8819                                  0                       0   \n",
       "8820                                  0                       0   \n",
       "8821                                  1                       0   \n",
       "8822                                  0                       1   \n",
       "\n",
       "      creation_source_SIGNUP_GOOGLE_AUTH  \n",
       "0                                      0  \n",
       "1                                      0  \n",
       "2                                      0  \n",
       "3                                      0  \n",
       "4                                      0  \n",
       "...                                  ...  \n",
       "8818                                   0  \n",
       "8819                                   1  \n",
       "8820                                   0  \n",
       "8821                                   0  \n",
       "8822                                   0  \n",
       "\n",
       "[8823 rows x 13 columns]"
      ]
     },
     "execution_count": 160,
     "metadata": {},
     "output_type": "execute_result"
    }
   ],
   "source": [
    "merger_drop"
   ]
  },
  {
   "cell_type": "code",
   "execution_count": 161,
   "id": "ce857916-68ea-414e-9f02-e4ded58fb4e2",
   "metadata": {},
   "outputs": [],
   "source": [
    "merger_drop_final = merger_drop.drop(columns = ['creation_time', 'last_session_creation_time'])"
   ]
  },
  {
   "cell_type": "code",
   "execution_count": 162,
   "id": "fc57d405-7233-4bb1-9112-0553934c6828",
   "metadata": {},
   "outputs": [
    {
     "name": "stdout",
     "output_type": "stream",
     "text": [
      "<class 'pandas.core.frame.DataFrame'>\n",
      "RangeIndex: 8823 entries, 0 to 8822\n",
      "Data columns (total 11 columns):\n",
      " #   Column                              Non-Null Count  Dtype  \n",
      "---  ------                              --------------  -----  \n",
      " 0   opted_in_to_mailing_list            8823 non-null   int64  \n",
      " 1   enabled_for_marketing_drip          8823 non-null   int64  \n",
      " 2   org_id                              8823 non-null   int64  \n",
      " 3   invited_by_user_id                  8823 non-null   float64\n",
      " 4   user_id                             8823 non-null   int64  \n",
      " 5   adopted                             8823 non-null   int32  \n",
      " 6   approx_account_duration             8823 non-null   int64  \n",
      " 7   creation_source_ORG_INVITE          8823 non-null   int32  \n",
      " 8   creation_source_PERSONAL_PROJECTS   8823 non-null   int32  \n",
      " 9   creation_source_SIGNUP              8823 non-null   int32  \n",
      " 10  creation_source_SIGNUP_GOOGLE_AUTH  8823 non-null   int32  \n",
      "dtypes: float64(1), int32(5), int64(5)\n",
      "memory usage: 586.0 KB\n"
     ]
    }
   ],
   "source": [
    "merger_drop_final.info()"
   ]
  },
  {
   "cell_type": "code",
   "execution_count": 163,
   "id": "d0f753f1-f2c8-4874-980a-d782831c5fe2",
   "metadata": {},
   "outputs": [],
   "source": [
    "merger_drop_final_2 = merger_drop_final.drop(columns=['invited_by_user_id', 'user_id'])"
   ]
  },
  {
   "cell_type": "markdown",
   "id": "16f4c23d-500c-48ae-8091-efb6a575a412",
   "metadata": {},
   "source": [
    "#### At this point I want to see how the data looks in terms of outliers."
   ]
  },
  {
   "cell_type": "code",
   "execution_count": 164,
   "id": "7d3bc561-b983-449c-b2e3-9f9928caece7",
   "metadata": {},
   "outputs": [
    {
     "data": {
      "image/png": "[encoded data removed]",
      "text/plain": [
       "<Figure size 500x500 with 1 Axes>"
      ]
     },
     "metadata": {},
     "output_type": "display_data"
    }
   ],
   "source": [
    "sns.catplot(merger_drop_final_2, kind = 'box').set(title=\"Boxplots of Predictors\")\n",
    "\n",
    "plt.xticks(rotation = 90)\n",
    "#plt.set_title(\"Boxplots of Predictors\")\n",
    "plt.show()\n"
   ]
  },
  {
   "cell_type": "markdown",
   "id": "fdb50071-abbf-49af-9865-775e1b08dded",
   "metadata": {},
   "source": [
    "#### Duration of account should be an important factor as to whether a user becomes an adopted user.  I want to investigate if this variable has a normal distribution."
   ]
  },
  {
   "cell_type": "code",
   "execution_count": 165,
   "id": "d2060224-3dbe-4281-a796-2a353b76c168",
   "metadata": {},
   "outputs": [
    {
     "data": {
      "image/png": "[encoded data removed]",
      "text/plain": [
       "<Figure size 640x480 with 1 Axes>"
      ]
     },
     "metadata": {},
     "output_type": "display_data"
    }
   ],
   "source": [
    "merger_drop_final_2['approx_account_duration'].plot(kind = 'hist', bins = 20)\n",
    "plt.show()"
   ]
  },
  {
   "cell_type": "markdown",
   "id": "c5ac38c3-74a5-438c-9f83-06032ac9561f",
   "metadata": {},
   "source": [
    "#### Now that I see the 'approx_account_duration' column has many outliers and is skewed, I will discard the top 20 percent of those values and then use Standard Scaler to make the data 'normal'."
   ]
  },
  {
   "cell_type": "code",
   "execution_count": 166,
   "id": "9e3b1158-86f0-4829-ba6d-78f09d391511",
   "metadata": {},
   "outputs": [],
   "source": [
    "merger_duration_thresh = merger_drop_final_2['approx_account_duration'].quantile(.80)"
   ]
  },
  {
   "cell_type": "code",
   "execution_count": 167,
   "id": "ff3c5701-a904-44e1-9233-4caebfbec723",
   "metadata": {},
   "outputs": [],
   "source": [
    "merger_drop_final_2_chop = merger_drop_final_2[merger_drop_final_2['approx_account_duration'] <= merger_duration_thresh]"
   ]
  },
  {
   "cell_type": "code",
   "execution_count": 168,
   "id": "39f0390e-868e-4338-8ba9-38db7b5db1f3",
   "metadata": {},
   "outputs": [
    {
     "data": {
      "image/png": "[encoded data removed]",
      "text/plain": [
       "<Figure size 500x500 with 1 Axes>"
      ]
     },
     "metadata": {},
     "output_type": "display_data"
    }
   ],
   "source": [
    "sns.catplot(merger_drop_final_2_chop, kind = 'box').set(title=\"Boxplots of Predictors\")\n",
    "\n",
    "plt.xticks(rotation = 90)\n",
    "\n",
    "plt.show()"
   ]
  },
  {
   "cell_type": "code",
   "execution_count": 169,
   "id": "32000088-56d4-4010-8840-0301a91aeadc",
   "metadata": {},
   "outputs": [],
   "source": [
    "X_final = merger_drop_final_2_chop.drop(columns = ['adopted'])\n",
    "y_final = merger_drop_final_2_chop['adopted']"
   ]
  },
  {
   "cell_type": "code",
   "execution_count": 170,
   "id": "5a03d537-31dc-4c85-97b1-3a184f58df33",
   "metadata": {},
   "outputs": [],
   "source": [
    "from sklearn.model_selection import train_test_split\n",
    "from sklearn.preprocessing import StandardScaler"
   ]
  },
  {
   "cell_type": "code",
   "execution_count": 171,
   "id": "ab43198f-ed50-4e03-a029-f9468c327c1b",
   "metadata": {},
   "outputs": [],
   "source": [
    "X_train, X_test, y_train, y_test = train_test_split(X_final, y_final, random_state = 25)"
   ]
  },
  {
   "cell_type": "code",
   "execution_count": 172,
   "id": "1ab5a7f7-5325-422d-93ef-523c9629b85e",
   "metadata": {},
   "outputs": [],
   "source": [
    "scaler = StandardScaler()"
   ]
  },
  {
   "cell_type": "code",
   "execution_count": 173,
   "id": "d8f6ac11-479e-452d-90f4-bb250aa0e3c7",
   "metadata": {},
   "outputs": [],
   "source": [
    "X_train_scaled = scaler.fit_transform(X_train)"
   ]
  },
  {
   "cell_type": "code",
   "execution_count": 174,
   "id": "d17dc1a5-bedf-49ee-a230-f88ca1479f16",
   "metadata": {},
   "outputs": [],
   "source": [
    "df_X_train_scaled = pd.DataFrame(X_train_scaled, columns = X_train.columns)"
   ]
  },
  {
   "cell_type": "code",
   "execution_count": 175,
   "id": "b4322078-c5a3-4207-bc27-72e7d0b9a75a",
   "metadata": {},
   "outputs": [],
   "source": [
    "X_test_scaled = scaler.fit_transform(X_test)"
   ]
  },
  {
   "cell_type": "code",
   "execution_count": 176,
   "id": "c27f2750-f213-4d2e-a0ec-2ca91ce20d52",
   "metadata": {},
   "outputs": [],
   "source": [
    "df_X_test_scaled = pd.DataFrame(X_test_scaled, columns = X_test.columns)"
   ]
  },
  {
   "cell_type": "code",
   "execution_count": 177,
   "id": "b58ff49b-7733-46a1-8b24-291ff6387939",
   "metadata": {},
   "outputs": [
    {
     "data": {
      "image/png": "[encoded data removed]",
      "text/plain": [
       "<Figure size 500x500 with 1 Axes>"
      ]
     },
     "metadata": {},
     "output_type": "display_data"
    }
   ],
   "source": [
    "sns.catplot(df_X_train_scaled, kind = 'box').set(title=\"Boxplots of Predictors\")\n",
    "\n",
    "plt.xticks(rotation = 90)\n",
    "\n",
    "plt.show()"
   ]
  },
  {
   "cell_type": "code",
   "execution_count": 178,
   "id": "e94bc4b4-0ad7-4c3a-92e4-81d766a1cd0c",
   "metadata": {},
   "outputs": [
    {
     "name": "stdout",
     "output_type": "stream",
     "text": [
      "<class 'pandas.core.frame.DataFrame'>\n",
      "RangeIndex: 1769 entries, 0 to 1768\n",
      "Data columns (total 8 columns):\n",
      " #   Column                              Non-Null Count  Dtype  \n",
      "---  ------                              --------------  -----  \n",
      " 0   opted_in_to_mailing_list            1769 non-null   float64\n",
      " 1   enabled_for_marketing_drip          1769 non-null   float64\n",
      " 2   org_id                              1769 non-null   float64\n",
      " 3   approx_account_duration             1769 non-null   float64\n",
      " 4   creation_source_ORG_INVITE          1769 non-null   float64\n",
      " 5   creation_source_PERSONAL_PROJECTS   1769 non-null   float64\n",
      " 6   creation_source_SIGNUP              1769 non-null   float64\n",
      " 7   creation_source_SIGNUP_GOOGLE_AUTH  1769 non-null   float64\n",
      "dtypes: float64(8)\n",
      "memory usage: 110.7 KB\n"
     ]
    }
   ],
   "source": [
    "df_X_test_scaled.info()"
   ]
  },
  {
   "cell_type": "markdown",
   "id": "2ccb3f10-38bd-48d0-ab66-fb30c31fcf34",
   "metadata": {},
   "source": [
    "#### I want to check if the two classes are imbalanced"
   ]
  },
  {
   "cell_type": "code",
   "execution_count": 179,
   "id": "e3947d0d-227a-41e5-847f-8d28b9b60e8a",
   "metadata": {},
   "outputs": [
    {
     "data": {
      "text/plain": [
       "adopted\n",
       "0    5205\n",
       "1     100\n",
       "Name: count, dtype: int64"
      ]
     },
     "execution_count": 179,
     "metadata": {},
     "output_type": "execute_result"
    }
   ],
   "source": [
    "y_train.value_counts()"
   ]
  },
  {
   "cell_type": "markdown",
   "id": "7528ffc2-40a0-47fe-8c93-99cd61e6a72e",
   "metadata": {},
   "source": [
    "#### Since the classes are imbalanced, I will import RandomOverSampler to make the classes balanced"
   ]
  },
  {
   "cell_type": "code",
   "execution_count": 180,
   "id": "d266e18d-6c10-41c6-9370-d58e183cf9f6",
   "metadata": {},
   "outputs": [],
   "source": [
    "from imblearn.over_sampling import RandomOverSampler"
   ]
  },
  {
   "cell_type": "code",
   "execution_count": 181,
   "id": "60f386b2-5632-4e71-9024-aaa10c858708",
   "metadata": {},
   "outputs": [],
   "source": [
    "ROS = RandomOverSampler(sampling_strategy = 1)"
   ]
  },
  {
   "cell_type": "code",
   "execution_count": 182,
   "id": "79ca2836-aa95-4afd-b490-3c07017b72b5",
   "metadata": {},
   "outputs": [],
   "source": [
    "X_resample, y_resample = ROS.fit_resample(df_X_train_scaled, y_train)"
   ]
  },
  {
   "cell_type": "code",
   "execution_count": 183,
   "id": "a6d50970-5f94-4e3d-a446-d6f3473388d0",
   "metadata": {},
   "outputs": [
    {
     "data": {
      "text/plain": [
       "adopted\n",
       "0    5205\n",
       "1    5205\n",
       "Name: count, dtype: int64"
      ]
     },
     "execution_count": 183,
     "metadata": {},
     "output_type": "execute_result"
    }
   ],
   "source": [
    "y_resample.value_counts()"
   ]
  },
  {
   "cell_type": "markdown",
   "id": "593d8ea9-93e0-4f4b-9e0c-e37b5606d5af",
   "metadata": {},
   "source": [
    "#### Now that the data has been cleaned and scaled, and the classes made to be balanced, it is time to build a model.  I will choose the Random Forest Classifier model as it is good for decreasing the liklihood of overfitting."
   ]
  },
  {
   "cell_type": "code",
   "execution_count": 184,
   "id": "07d2ba42-77d5-4eb3-9f4a-a9011113f980",
   "metadata": {},
   "outputs": [],
   "source": [
    "from sklearn.ensemble import RandomForestClassifier"
   ]
  },
  {
   "cell_type": "code",
   "execution_count": 185,
   "id": "6f5580a9-aaff-467d-b1a1-96933c760bdd",
   "metadata": {},
   "outputs": [
    {
     "data": {
      "text/html": [
       "<style>#sk-container-id-4 {color: black;}#sk-container-id-4 pre{padding: 0;}#sk-container-id-4 div.sk-toggleable {background-color: white;}#sk-container-id-4 label.sk-toggleable__label {cursor: pointer;display: block;width: 100%;margin-bottom: 0;padding: 0.3em;box-sizing: border-box;text-align: center;}#sk-container-id-4 label.sk-toggleable__label-arrow:before {content: \"▸\";float: left;margin-right: 0.25em;color: #696969;}#sk-container-id-4 label.sk-toggleable__label-arrow:hover:before {color: black;}#sk-container-id-4 div.sk-estimator:hover label.sk-toggleable__label-arrow:before {color: black;}#sk-container-id-4 div.sk-toggleable__content {max-height: 0;max-width: 0;overflow: hidden;text-align: left;background-color: #f0f8ff;}#sk-container-id-4 div.sk-toggleable__content pre {margin: 0.2em;color: black;border-radius: 0.25em;background-color: #f0f8ff;}#sk-container-id-4 input.sk-toggleable__control:checked~div.sk-toggleable__content {max-height: 200px;max-width: 100%;overflow: auto;}#sk-container-id-4 input.sk-toggleable__control:checked~label.sk-toggleable__label-arrow:before {content: \"▾\";}#sk-container-id-4 div.sk-estimator input.sk-toggleable__control:checked~label.sk-toggleable__label {background-color: #d4ebff;}#sk-container-id-4 div.sk-label input.sk-toggleable__control:checked~label.sk-toggleable__label {background-color: #d4ebff;}#sk-container-id-4 input.sk-hidden--visually {border: 0;clip: rect(1px 1px 1px 1px);clip: rect(1px, 1px, 1px, 1px);height: 1px;margin: -1px;overflow: hidden;padding: 0;position: absolute;width: 1px;}#sk-container-id-4 div.sk-estimator {font-family: monospace;background-color: #f0f8ff;border: 1px dotted black;border-radius: 0.25em;box-sizing: border-box;margin-bottom: 0.5em;}#sk-container-id-4 div.sk-estimator:hover {background-color: #d4ebff;}#sk-container-id-4 div.sk-parallel-item::after {content: \"\";width: 100%;border-bottom: 1px solid gray;flex-grow: 1;}#sk-container-id-4 div.sk-label:hover label.sk-toggleable__label {background-color: #d4ebff;}#sk-container-id-4 div.sk-serial::before {content: \"\";position: absolute;border-left: 1px solid gray;box-sizing: border-box;top: 0;bottom: 0;left: 50%;z-index: 0;}#sk-container-id-4 div.sk-serial {display: flex;flex-direction: column;align-items: center;background-color: white;padding-right: 0.2em;padding-left: 0.2em;position: relative;}#sk-container-id-4 div.sk-item {position: relative;z-index: 1;}#sk-container-id-4 div.sk-parallel {display: flex;align-items: stretch;justify-content: center;background-color: white;position: relative;}#sk-container-id-4 div.sk-item::before, #sk-container-id-4 div.sk-parallel-item::before {content: \"\";position: absolute;border-left: 1px solid gray;box-sizing: border-box;top: 0;bottom: 0;left: 50%;z-index: -1;}#sk-container-id-4 div.sk-parallel-item {display: flex;flex-direction: column;z-index: 1;position: relative;background-color: white;}#sk-container-id-4 div.sk-parallel-item:first-child::after {align-self: flex-end;width: 50%;}#sk-container-id-4 div.sk-parallel-item:last-child::after {align-self: flex-start;width: 50%;}#sk-container-id-4 div.sk-parallel-item:only-child::after {width: 0;}#sk-container-id-4 div.sk-dashed-wrapped {border: 1px dashed gray;margin: 0 0.4em 0.5em 0.4em;box-sizing: border-box;padding-bottom: 0.4em;background-color: white;}#sk-container-id-4 div.sk-label label {font-family: monospace;font-weight: bold;display: inline-block;line-height: 1.2em;}#sk-container-id-4 div.sk-label-container {text-align: center;}#sk-container-id-4 div.sk-container {/* jupyter's `normalize.less` sets `[hidden] { display: none; }` but bootstrap.min.css set `[hidden] { display: none !important; }` so we also need the `!important` here to be able to override the default hidden behavior on the sphinx rendered scikit-learn.org. See: https://github.com/scikit-learn/scikit-learn/issues/21755 */display: inline-block !important;position: relative;}#sk-container-id-4 div.sk-text-repr-fallback {display: none;}</style><div id=\"sk-container-id-4\" class=\"sk-top-container\"><div class=\"sk-text-repr-fallback\"><pre>RandomForestClassifier(max_depth=6, random_state=25)</pre><b>In a Jupyter environment, please rerun this cell to show the HTML representation or trust the notebook. <br />On GitHub, the HTML representation is unable to render, please try loading this page with nbviewer.org.</b></div><div class=\"sk-container\" hidden><div class=\"sk-item\"><div class=\"sk-estimator sk-toggleable\"><input class=\"sk-toggleable__control sk-hidden--visually\" id=\"sk-estimator-id-4\" type=\"checkbox\" checked><label for=\"sk-estimator-id-4\" class=\"sk-toggleable__label sk-toggleable__label-arrow\">RandomForestClassifier</label><div class=\"sk-toggleable__content\"><pre>RandomForestClassifier(max_depth=6, random_state=25)</pre></div></div></div></div></div>"
      ],
      "text/plain": [
       "RandomForestClassifier(max_depth=6, random_state=25)"
      ]
     },
     "execution_count": 185,
     "metadata": {},
     "output_type": "execute_result"
    }
   ],
   "source": [
    "RFC = RandomForestClassifier(max_depth = 6, random_state=25)\n",
    "RFC.fit(X_resample, y_resample)"
   ]
  },
  {
   "cell_type": "code",
   "execution_count": 186,
   "id": "11dbac8b-6e85-42ee-9176-6308c8ca56b0",
   "metadata": {},
   "outputs": [],
   "source": [
    "y_pred = RFC.predict(df_X_test_scaled)"
   ]
  },
  {
   "cell_type": "code",
   "execution_count": 187,
   "id": "e9d15389-410f-4447-a83f-a10a87f85508",
   "metadata": {},
   "outputs": [
    {
     "data": {
      "text/plain": [
       "array([0.00445114, 0.00584238, 0.10170735, 0.87418333, 0.00198008,\n",
       "       0.00204707, 0.0048374 , 0.00495125])"
      ]
     },
     "execution_count": 187,
     "metadata": {},
     "output_type": "execute_result"
    }
   ],
   "source": [
    "RFC.feature_importances_"
   ]
  },
  {
   "cell_type": "markdown",
   "id": "f609f6be-4927-4152-843d-1b7180077302",
   "metadata": {},
   "source": [
    "#### Now to determine which features are the most important towards determing if a user will become an adopted user."
   ]
  },
  {
   "cell_type": "code",
   "execution_count": 188,
   "id": "4f36efad-5a27-48c1-b148-fe1a98b75ef9",
   "metadata": {},
   "outputs": [
    {
     "data": {
      "text/plain": [
       "Index(['opted_in_to_mailing_list', 'enabled_for_marketing_drip', 'org_id',\n",
       "       'approx_account_duration', 'creation_source_ORG_INVITE',\n",
       "       'creation_source_PERSONAL_PROJECTS', 'creation_source_SIGNUP',\n",
       "       'creation_source_SIGNUP_GOOGLE_AUTH'],\n",
       "      dtype='object')"
      ]
     },
     "execution_count": 188,
     "metadata": {},
     "output_type": "execute_result"
    }
   ],
   "source": [
    "X_resample.columns"
   ]
  },
  {
   "cell_type": "markdown",
   "id": "1211067d-a946-4893-94e9-b8863b569a51",
   "metadata": {},
   "source": [
    "#### According to the model, the most important features are 'org_id' and 'approximate_account_duration'. \n",
    "#### Now I want to examin the effectiveness of the model.  First I will create a confusion matrix to see how many of the 1 and 0 classes are called correctly."
   ]
  },
  {
   "cell_type": "code",
   "execution_count": 189,
   "id": "be213c65-49fd-4b4c-bf1e-ab6c8da4bacd",
   "metadata": {},
   "outputs": [],
   "source": [
    "from sklearn.metrics import confusion_matrix"
   ]
  },
  {
   "cell_type": "code",
   "execution_count": 191,
   "id": "3e82d970-aaa7-436e-ba15-34e29a241c6e",
   "metadata": {},
   "outputs": [
    {
     "data": {
      "text/plain": [
       "array([[1584,  153],\n",
       "       [   4,   28]], dtype=int64)"
      ]
     },
     "execution_count": 191,
     "metadata": {},
     "output_type": "execute_result"
    }
   ],
   "source": [
    "confusion_matrix(y_test, y_pred)"
   ]
  },
  {
   "cell_type": "markdown",
   "id": "acdb6660-8f5e-4989-abc3-17c3c0d72233",
   "metadata": {},
   "source": [
    "#### Of the 1769 test observations, 157 were predicted incorrectly.  Finally I will measure the accuracy, find cross validation scores using 5 folds, and look at the presision, recall and f1 score."
   ]
  },
  {
   "cell_type": "code",
   "execution_count": 192,
   "id": "784840a9-c1ee-4ac5-b491-24f3cf29a2e3",
   "metadata": {},
   "outputs": [
    {
     "name": "stdout",
     "output_type": "stream",
     "text": [
      "The accuracy score of the model is  0.9112492933860938\n"
     ]
    }
   ],
   "source": [
    "from sklearn.metrics import accuracy_score\n",
    "print('The accuracy score of the model is ', accuracy_score(y_test, y_pred))"
   ]
  },
  {
   "cell_type": "code",
   "execution_count": 193,
   "id": "b7d10809-22c9-4c4d-a8e3-6caaccc13fdd",
   "metadata": {},
   "outputs": [
    {
     "data": {
      "text/plain": [
       "array([0.96061479, 0.95965418, 0.95341018, 0.94572526, 0.95965418])"
      ]
     },
     "execution_count": 193,
     "metadata": {},
     "output_type": "execute_result"
    }
   ],
   "source": [
    "from sklearn.model_selection import cross_val_score\n",
    "cross_val_score(RFC, X_resample, y_resample, cv = 5)"
   ]
  },
  {
   "cell_type": "code",
   "execution_count": 197,
   "id": "ad03715d-cd67-4960-abab-8941288d36ba",
   "metadata": {},
   "outputs": [
    {
     "name": "stdout",
     "output_type": "stream",
     "text": [
      "              precision    recall  f1-score   support\n",
      "\n",
      " not adopted       1.00      0.91      0.95      1737\n",
      "     adopted       0.15      0.88      0.26        32\n",
      "\n",
      "    accuracy                           0.91      1769\n",
      "   macro avg       0.58      0.89      0.61      1769\n",
      "weighted avg       0.98      0.91      0.94      1769\n",
      "\n"
     ]
    }
   ],
   "source": [
    "from sklearn.metrics import classification_report\n",
    "print(classification_report(y_test, y_pred, target_names = ['not adopted', 'adopted']))"
   ]
  },
  {
   "cell_type": "markdown",
   "id": "11fce175-f3b0-42de-b4f4-178e36ba9f78",
   "metadata": {},
   "source": [
    "There were two factors that predict future user adoption; one was given from the csv file (Org_ID) and the other one, 'approx_account_duration', was engineered from the 'creation_time' and 'last_session_creation_time' features (approx_account_duration = last_session_creation_time - creation_time).  After creating a column that identified whether or not the users in this set were adopted users, it became apparent from a histogram that the data was not normal and from performing a value_count that the two classes were imbalanced. After removing observations that contained outliers, normalizing the data and creating training and testing sets, I created a Random Forest classifier model that confirmed the earlier statement about the two factors.  The results were a mixed bag since the recall on the 'adopted' class was very good (.88) but the precision on the same class was extremely low (.15)."
   ]
  }
 ],
 "metadata": {
  "kernelspec": {
   "display_name": "Python 3 (ipykernel)",
   "language": "python",
   "name": "python3"
  },
  "language_info": {
   "codemirror_mode": {
    "name": "ipython",
    "version": 3
   },
   "file_extension": ".py",
   "mimetype": "text/x-python",
   "name": "python",
   "nbconvert_exporter": "python",
   "pygments_lexer": "ipython3",
   "version": "3.10.13"
  }
 },
 "nbformat": 4,
 "nbformat_minor": 5
}
